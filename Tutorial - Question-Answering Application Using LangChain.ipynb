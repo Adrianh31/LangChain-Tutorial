{
 "cells": [
  {
   "cell_type": "markdown",
   "id": "abf98e2c-a73d-45d6-8dc8-c0c86a894adb",
   "metadata": {},
   "source": [
    "# Question-Answering Application Using LangChain and Chromadb"
   ]
  },
  {
   "cell_type": "markdown",
   "id": "60f0ee27-75b0-4091-8714-95b632bbb20c",
   "metadata": {},
   "source": [
    "### Installing requried libraries"
   ]
  },
  {
   "cell_type": "code",
   "execution_count": 1,
   "id": "9465caf5-6ac9-4cb4-9f16-10e66fb6a1a7",
   "metadata": {},
   "outputs": [],
   "source": [
    "!pip install openai -q\n",
    "!pip install langchain -q\n",
    "!pip install -q chromadb\n",
    "!pip install python-dotenv -q\n",
    "!pip install tiktoken -q\n",
    "!pip install pypdf -q\n",
    "!pip install docx2txt -q"
   ]
  },
  {
   "cell_type": "markdown",
   "id": "14685b00-308e-4148-9bbe-d6d639692533",
   "metadata": {},
   "source": [
    "### Load Environment Variable"
   ]
  },
  {
   "cell_type": "code",
   "execution_count": 3,
   "id": "1d0c1517-8f25-47a2-bfbf-f38833544550",
   "metadata": {},
   "outputs": [
    {
     "name": "stdout",
     "output_type": "stream",
     "text": [
      "API Key Loaded: True\n"
     ]
    }
   ],
   "source": [
    "import os\n",
    "from dotenv import load_dotenv, find_dotenv\n",
    "load_dotenv(find_dotenv(), override=True)\n",
    "\n",
    "os.environ.get('OPENAI_API_KEY')\n",
    "\n",
    "print(\"API Key Loaded:\", os.environ.get('OPENAI_API_KEY') is not None)"
   ]
  },
  {
   "cell_type": "markdown",
   "id": "d87b1b89-0a66-4d5e-8fde-2cf99d0e1920",
   "metadata": {},
   "source": [
    "### Load documents with different formats"
   ]
  },
  {
   "cell_type": "code",
   "execution_count": 4,
   "id": "1d657673-4dac-42ce-ab62-471ea9e4220c",
   "metadata": {},
   "outputs": [],
   "source": [
    "def extract_text_from_document(file):\n",
    "    import os\n",
    "    name, extension = os.path.splitext(file)\n",
    "\n",
    "    if extension == '.pdf':\n",
    "        from langchain.document_loaders import PyPDFLoader\n",
    "        print(f'Loading {file}')\n",
    "        loader = PyPDFLoader(file)\n",
    "    elif extension == '.docx':\n",
    "        from langchain.document_loaders import Docx2txtLoader\n",
    "        print(f'Loading {file}')\n",
    "        loader = Docx2txtLoader(file)\n",
    "    else:\n",
    "        print('Document format is not supported by our application!')\n",
    "        return None\n",
    "\n",
    "    data = loader.load()\n",
    "    return data"
   ]
  },
  {
   "cell_type": "markdown",
   "id": "075e173d-4832-48a2-be10-31008d0bb0db",
   "metadata": {},
   "source": [
    "### Chunking Strategies and splitting the documents"
   ]
  },
  {
   "cell_type": "code",
   "execution_count": 5,
   "id": "823f7daa-1935-4613-a805-5769953cadca",
   "metadata": {},
   "outputs": [],
   "source": [
    "def split_text_into_chunks(data, chunk_size=256):\n",
    "    from langchain.text_splitter import RecursiveCharacterTextSplitter\n",
    "    text_splitter = RecursiveCharacterTextSplitter(chunk_size=chunk_size, chunk_overlap=0)\n",
    "    chunks = text_splitter.split_documents(data)\n",
    "\n",
    "    return chunks"
   ]
  },
  {
   "cell_type": "markdown",
   "id": "002a7874-dd21-4fb4-9496-4c36c97b2f46",
   "metadata": {},
   "source": [
    "### Create the function for generating questions and answers"
   ]
  },
  {
   "cell_type": "code",
   "execution_count": 6,
   "id": "6616d5ed-19d6-4f29-8a1f-2aed551c181a",
   "metadata": {},
   "outputs": [],
   "source": [
    "def generate_answer_from_vector_store(vector_store, question):\n",
    "    from langchain.chains import RetrievalQA\n",
    "    from langchain_openai import ChatOpenAI\n",
    "\n",
    "    llm = ChatOpenAI(model='gpt-4', temperature=1)\n",
    "\n",
    "    retriever = vector_store.as_retriever(search_type='similarity', search_kwargs={'k':3})\n",
    "\n",
    "    chain = RetrievalQA.from_chain_type(llm=llm, chain_type=\"stuff\", retriever=retriever)\n",
    "\n",
    "    answer = chain.invoke(question)\n",
    "\n",
    "    return answer"
   ]
  },
  {
   "cell_type": "markdown",
   "id": "69eb9733-9d11-408b-b84c-dc552875ed1f",
   "metadata": {},
   "source": [
    "### Define Create Function for Embedding"
   ]
  },
  {
   "cell_type": "code",
   "execution_count": 7,
   "id": "ebb25535-d400-4873-8713-573f3cdd28c7",
   "metadata": {},
   "outputs": [],
   "source": [
    "def create_embeddings_chroma(chunks, persist_directory='./chroma_db'):\n",
    "    from langchain.vectorstores import Chroma\n",
    "    from langchain_openai import OpenAIEmbeddings\n",
    "\n",
    "    embeddings = OpenAIEmbeddings(model='text-embedding-3-small', dimensions=1536)\n",
    "    vector_store = Chroma.from_documents(chunks, embeddings, persist_directory=persist_directory)\n",
    "\n",
    "    return vector_store"
   ]
  },
  {
   "cell_type": "markdown",
   "id": "fc2ec332-9ddf-45de-9611-23e4ea1ff34d",
   "metadata": {},
   "source": [
    "### Define Load Emedding Function"
   ]
  },
  {
   "cell_type": "code",
   "execution_count": 8,
   "id": "f747c7b3-7c65-4041-909d-79547607853a",
   "metadata": {},
   "outputs": [],
   "source": [
    "def load_embeddings_chroma(persist_directory='./chroma_db'):\n",
    "    from langchain.vectorstores import Chroma\n",
    "    from langchain_openai import OpenAIEmbeddings\n",
    "\n",
    "    embedding = OpenAIEmbeddings(model='text-embedding-3-small', dimensions=1536)\n",
    "    vector_store= Chroma(persist_directory=persist_directory, embedding_function = embedding)\n",
    "    return vector_store"
   ]
  },
  {
   "cell_type": "markdown",
   "id": "f1766950-f03a-4a23-b6a1-65fd70b6ddcf",
   "metadata": {},
   "source": [
    "### Testing"
   ]
  },
  {
   "cell_type": "code",
   "execution_count": 9,
   "id": "49cc8bcb-79f2-428c-a577-7887f73aa6f6",
   "metadata": {},
   "outputs": [
    {
     "name": "stdout",
     "output_type": "stream",
     "text": [
      "Loading Files/GoogleGeminiFamily.pdf\n"
     ]
    }
   ],
   "source": [
    "data = extract_text_from_document('Files/GoogleGeminiFamily.pdf')\n",
    "chunks = split_text_into_chunks(data, chunk_size=256)\n",
    "vector_store = create_embeddings_chroma(chunks)"
   ]
  },
  {
   "cell_type": "code",
   "execution_count": 12,
   "id": "53dc93e0-7818-46ba-bb23-2195b25c6c8e",
   "metadata": {},
   "outputs": [
    {
     "name": "stdout",
     "output_type": "stream",
     "text": [
      "The \"Gemini family\" likely refers to the members involved in the Gemini project at Google. This includes Google DeepMind (GDM), Google Research (GR), Knowledge and Information (K&I), Core ML, Cloud, Labs, and more.\n"
     ]
    }
   ],
   "source": [
    "question = 'What is Google Gemini Family?'\n",
    "answer = generate_answer_from_vector_store(vector_store, question)\n",
    "print(answer['result'])"
   ]
  },
  {
   "cell_type": "code",
   "execution_count": null,
   "id": "7e634b6f-d093-4e60-883f-da73cb217208",
   "metadata": {},
   "outputs": [],
   "source": []
  },
  {
   "cell_type": "code",
   "execution_count": null,
   "id": "739f01ac-b0c3-40fb-a0f9-776f2864fc63",
   "metadata": {},
   "outputs": [],
   "source": []
  },
  {
   "cell_type": "code",
   "execution_count": null,
   "id": "ac2bc391-987b-48aa-a6a8-2c1f2a564286",
   "metadata": {},
   "outputs": [],
   "source": []
  },
  {
   "cell_type": "code",
   "execution_count": null,
   "id": "35603e84-2565-43ca-b417-c6c7c1b26d98",
   "metadata": {},
   "outputs": [],
   "source": []
  },
  {
   "cell_type": "code",
   "execution_count": null,
   "id": "c33b2365-6323-4e17-b66d-9b7d796cfd30",
   "metadata": {},
   "outputs": [],
   "source": []
  },
  {
   "cell_type": "code",
   "execution_count": null,
   "id": "0f570688-7aac-42f4-998e-f478ca2b5554",
   "metadata": {},
   "outputs": [],
   "source": []
  },
  {
   "cell_type": "code",
   "execution_count": null,
   "id": "1a2aca9c-4806-45fe-a9cd-a5beabbaf2b9",
   "metadata": {},
   "outputs": [],
   "source": []
  },
  {
   "cell_type": "code",
   "execution_count": null,
   "id": "c04ea573-6dd5-4daf-9863-954a643679be",
   "metadata": {},
   "outputs": [],
   "source": []
  },
  {
   "cell_type": "code",
   "execution_count": null,
   "id": "c2ca1315-5e66-4626-996c-954347792ced",
   "metadata": {},
   "outputs": [],
   "source": []
  },
  {
   "cell_type": "code",
   "execution_count": null,
   "id": "ae5d6c33-587c-400a-bbdf-b8dc6b095eb5",
   "metadata": {},
   "outputs": [],
   "source": []
  },
  {
   "cell_type": "code",
   "execution_count": null,
   "id": "f2a19225-faa2-4b2b-b3f8-925b97e10805",
   "metadata": {},
   "outputs": [],
   "source": []
  },
  {
   "cell_type": "code",
   "execution_count": null,
   "id": "af14f695-8bc3-41fe-9fac-fa11eb8854d8",
   "metadata": {},
   "outputs": [],
   "source": []
  },
  {
   "cell_type": "code",
   "execution_count": null,
   "id": "bb2ae2c7-99a0-4a17-ac13-9e3b0f759cfe",
   "metadata": {},
   "outputs": [],
   "source": []
  },
  {
   "cell_type": "code",
   "execution_count": null,
   "id": "525a71cd-42ad-4e59-aa4f-4d06cdf6946e",
   "metadata": {},
   "outputs": [],
   "source": []
  },
  {
   "cell_type": "code",
   "execution_count": null,
   "id": "0608142a-ff40-47cb-a7ab-36263eea6666",
   "metadata": {},
   "outputs": [],
   "source": []
  },
  {
   "cell_type": "code",
   "execution_count": null,
   "id": "991312b7-0509-4fe6-b3e8-b7a4fd75778d",
   "metadata": {},
   "outputs": [],
   "source": []
  },
  {
   "cell_type": "code",
   "execution_count": null,
   "id": "e52bbc40-2840-4eaa-ac53-12104760a2c7",
   "metadata": {},
   "outputs": [],
   "source": []
  },
  {
   "cell_type": "code",
   "execution_count": null,
   "id": "8e049c5a-0e98-4d72-ba16-cd73b5d408fb",
   "metadata": {},
   "outputs": [],
   "source": []
  },
  {
   "cell_type": "code",
   "execution_count": null,
   "id": "bb336154-bd7c-428e-9fcd-e81e9f16ac4a",
   "metadata": {},
   "outputs": [],
   "source": []
  },
  {
   "cell_type": "code",
   "execution_count": null,
   "id": "f8da1d23-d4f8-46ad-aaf9-8999db15fdcd",
   "metadata": {},
   "outputs": [],
   "source": []
  },
  {
   "cell_type": "code",
   "execution_count": null,
   "id": "4c990776-f9ec-4494-b321-73f413754949",
   "metadata": {},
   "outputs": [],
   "source": []
  },
  {
   "cell_type": "code",
   "execution_count": null,
   "id": "3bbfb4b5-b92d-4087-90f7-752000760634",
   "metadata": {},
   "outputs": [],
   "source": []
  },
  {
   "cell_type": "code",
   "execution_count": null,
   "id": "40da3482-2788-4dd9-97c4-b1abfb3dffde",
   "metadata": {},
   "outputs": [],
   "source": []
  },
  {
   "cell_type": "code",
   "execution_count": null,
   "id": "2a4af43c-046a-4036-8ebe-606ac585fa26",
   "metadata": {},
   "outputs": [],
   "source": []
  },
  {
   "cell_type": "code",
   "execution_count": null,
   "id": "e6b69d07-8552-47c9-a9b6-ad143a0888de",
   "metadata": {},
   "outputs": [],
   "source": []
  },
  {
   "cell_type": "code",
   "execution_count": null,
   "id": "9cf33d97-8185-4175-82d4-0b07dfe749a4",
   "metadata": {},
   "outputs": [],
   "source": []
  },
  {
   "cell_type": "code",
   "execution_count": null,
   "id": "285a7728-a011-4b0a-9b0f-c343ef5f5efc",
   "metadata": {},
   "outputs": [],
   "source": []
  },
  {
   "cell_type": "code",
   "execution_count": null,
   "id": "e3fa6b4d-284d-4a5b-b4b3-da45979201bf",
   "metadata": {},
   "outputs": [],
   "source": []
  },
  {
   "cell_type": "code",
   "execution_count": null,
   "id": "6cf6cf16-bd3b-44a9-90c2-e9397dca71ea",
   "metadata": {},
   "outputs": [],
   "source": []
  },
  {
   "cell_type": "code",
   "execution_count": null,
   "id": "44636c38-8218-4f2c-b537-12fb26b3ab34",
   "metadata": {},
   "outputs": [],
   "source": []
  },
  {
   "cell_type": "code",
   "execution_count": null,
   "id": "0525deb1-44c9-4aaf-8ee1-33a13d328dc5",
   "metadata": {},
   "outputs": [],
   "source": []
  },
  {
   "cell_type": "code",
   "execution_count": null,
   "id": "d700d7d2-fb46-46b7-9e24-600346b01438",
   "metadata": {},
   "outputs": [],
   "source": []
  },
  {
   "cell_type": "code",
   "execution_count": null,
   "id": "78d48ec2-22c3-41f4-bf79-0063c6da5cde",
   "metadata": {},
   "outputs": [],
   "source": []
  },
  {
   "cell_type": "code",
   "execution_count": null,
   "id": "95c90c49-0785-40c9-b829-8afa8a7c2e48",
   "metadata": {},
   "outputs": [],
   "source": []
  },
  {
   "cell_type": "code",
   "execution_count": null,
   "id": "ac3b7fb9-c11c-4db9-9e4f-d7c3e50da79b",
   "metadata": {},
   "outputs": [],
   "source": []
  },
  {
   "cell_type": "code",
   "execution_count": null,
   "id": "6de9e1e4-007b-4318-b800-105377decc2c",
   "metadata": {},
   "outputs": [],
   "source": []
  },
  {
   "cell_type": "code",
   "execution_count": null,
   "id": "55339b66-3306-4e2e-b91e-208a9eb659f3",
   "metadata": {},
   "outputs": [],
   "source": []
  },
  {
   "cell_type": "code",
   "execution_count": null,
   "id": "8cc33950-49e9-43b5-8ea6-b1a54d9b08d9",
   "metadata": {},
   "outputs": [],
   "source": []
  },
  {
   "cell_type": "code",
   "execution_count": null,
   "id": "6c9dd290-72da-444a-b710-87a0000eb07c",
   "metadata": {},
   "outputs": [],
   "source": []
  },
  {
   "cell_type": "code",
   "execution_count": null,
   "id": "ca513d66-486c-4406-8ab7-2462ff5fa11b",
   "metadata": {},
   "outputs": [],
   "source": []
  },
  {
   "cell_type": "code",
   "execution_count": null,
   "id": "09b47f9c-f61a-47c0-827a-faeeaede244e",
   "metadata": {},
   "outputs": [],
   "source": []
  },
  {
   "cell_type": "code",
   "execution_count": null,
   "id": "a2d61b94-0a95-49c7-851c-e27cdee11ac4",
   "metadata": {},
   "outputs": [],
   "source": []
  },
  {
   "cell_type": "code",
   "execution_count": null,
   "id": "2b1a3f61-bd96-4fbc-a8c4-82d63b7cd510",
   "metadata": {},
   "outputs": [],
   "source": []
  },
  {
   "cell_type": "code",
   "execution_count": null,
   "id": "3a0a7de4-ce55-4f67-9895-65e43ddaa6cf",
   "metadata": {},
   "outputs": [],
   "source": []
  }
 ],
 "metadata": {
  "kernelspec": {
   "display_name": "Python 3 (ipykernel)",
   "language": "python",
   "name": "python3"
  },
  "language_info": {
   "codemirror_mode": {
    "name": "ipython",
    "version": 3
   },
   "file_extension": ".py",
   "mimetype": "text/x-python",
   "name": "python",
   "nbconvert_exporter": "python",
   "pygments_lexer": "ipython3",
   "version": "3.11.7"
  }
 },
 "nbformat": 4,
 "nbformat_minor": 5
}

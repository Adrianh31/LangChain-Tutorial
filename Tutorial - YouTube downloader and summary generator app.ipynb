{
 "cells": [
  {
   "cell_type": "markdown",
   "id": "c83bad48-6818-4450-a6e0-a27a731ceae6",
   "metadata": {},
   "source": [
    "# YouTube downloader and Summary Generator Application"
   ]
  },
  {
   "cell_type": "markdown",
   "id": "85872d5f-4e8d-4dad-bbc2-fe7963a9a511",
   "metadata": {},
   "source": [
    "### Installing required libraries"
   ]
  },
  {
   "cell_type": "code",
   "execution_count": 20,
   "id": "f375eb50-70e0-48f7-91a9-7dc3438db927",
   "metadata": {},
   "outputs": [],
   "source": [
    "!pip install -q openai\n",
    "!pip install -q pytube"
   ]
  },
  {
   "cell_type": "markdown",
   "id": "67e8f9de-522c-4e5f-b7d3-6f84972d46e8",
   "metadata": {},
   "source": [
    "### Load Environment variables"
   ]
  },
  {
   "cell_type": "code",
   "execution_count": 21,
   "id": "cd6597b6-301e-4f07-b06f-8f0e9f059050",
   "metadata": {},
   "outputs": [
    {
     "name": "stdout",
     "output_type": "stream",
     "text": [
      "API Key Loaded: True\n"
     ]
    }
   ],
   "source": [
    "import os\n",
    "from dotenv import load_dotenv, find_dotenv\n",
    "load_dotenv(find_dotenv(), override=True)\n",
    "\n",
    "os.environ.get('OPENAI_API_KEY')\n",
    "\n",
    "print(\"API Key Loaded:\", os.environ.get('OPENAI_API_KEY') is not None)"
   ]
  },
  {
   "cell_type": "markdown",
   "id": "c9d0d602-009a-4a05-9aea-00835439c6de",
   "metadata": {},
   "source": [
    "### YouTube Downloader"
   ]
  },
  {
   "cell_type": "code",
   "execution_count": 23,
   "id": "bdf2f12c-779c-4882-8ac3-69567ee9af8a",
   "metadata": {},
   "outputs": [],
   "source": [
    "from openai import OpenAI\n",
    "from pytube import YouTube\n",
    "\n",
    "client = OpenAI()"
   ]
  },
  {
   "cell_type": "code",
   "execution_count": 24,
   "id": "ed4191cd-2d4d-4813-99aa-5b601f34b5db",
   "metadata": {},
   "outputs": [],
   "source": [
    "link='https://www.youtube.com/watch?v=XBq6Tm2gv-4'\n",
    "video = YouTube(link)"
   ]
  },
  {
   "cell_type": "code",
   "execution_count": 25,
   "id": "815fd50f-9024-4e52-b917-05d67c5be9f2",
   "metadata": {},
   "outputs": [
    {
     "name": "stdout",
     "output_type": "stream",
     "text": [
      "Title:7 Powerful Hacks for Better Sleep\n"
     ]
    }
   ],
   "source": [
    "print(f'Title:{video.title}')"
   ]
  },
  {
   "cell_type": "code",
   "execution_count": 26,
   "id": "a588da36-cbe9-4653-9a71-34f0f1b9b5a6",
   "metadata": {},
   "outputs": [
    {
     "name": "stdout",
     "output_type": "stream",
     "text": [
      "Length:690\n",
      "Number of views:2050\n",
      "Thumbnail url:https://i.ytimg.com/vi/XBq6Tm2gv-4/hq720.jpg\n"
     ]
    }
   ],
   "source": [
    "print(f'Length:{video.length}')\n",
    "print(f'Number of views:{video.views}')\n",
    "print(f'Thumbnail url:{video.thumbnail_url}')"
   ]
  },
  {
   "cell_type": "code",
   "execution_count": 27,
   "id": "90f299c0-8c03-415c-ac95-920109a643a4",
   "metadata": {},
   "outputs": [
    {
     "name": "stdout",
     "output_type": "stream",
     "text": [
      "[<Stream: itag=\"18\" mime_type=\"video/mp4\" res=\"360p\" fps=\"25fps\" vcodec=\"avc1.42001E\" acodec=\"mp4a.40.2\" progressive=\"True\" type=\"video\">, <Stream: itag=\"22\" mime_type=\"video/mp4\" res=\"720p\" fps=\"25fps\" vcodec=\"avc1.64001F\" acodec=\"mp4a.40.2\" progressive=\"True\" type=\"video\">, <Stream: itag=\"136\" mime_type=\"video/mp4\" res=\"720p\" fps=\"25fps\" vcodec=\"avc1.64001f\" progressive=\"False\" type=\"video\">, <Stream: itag=\"247\" mime_type=\"video/webm\" res=\"720p\" fps=\"25fps\" vcodec=\"vp9\" progressive=\"False\" type=\"video\">, <Stream: itag=\"135\" mime_type=\"video/mp4\" res=\"480p\" fps=\"25fps\" vcodec=\"avc1.4d401e\" progressive=\"False\" type=\"video\">, <Stream: itag=\"244\" mime_type=\"video/webm\" res=\"480p\" fps=\"25fps\" vcodec=\"vp9\" progressive=\"False\" type=\"video\">, <Stream: itag=\"134\" mime_type=\"video/mp4\" res=\"360p\" fps=\"25fps\" vcodec=\"avc1.4d401e\" progressive=\"False\" type=\"video\">, <Stream: itag=\"243\" mime_type=\"video/webm\" res=\"360p\" fps=\"25fps\" vcodec=\"vp9\" progressive=\"False\" type=\"video\">, <Stream: itag=\"133\" mime_type=\"video/mp4\" res=\"240p\" fps=\"25fps\" vcodec=\"avc1.4d4015\" progressive=\"False\" type=\"video\">, <Stream: itag=\"242\" mime_type=\"video/webm\" res=\"240p\" fps=\"25fps\" vcodec=\"vp9\" progressive=\"False\" type=\"video\">, <Stream: itag=\"160\" mime_type=\"video/mp4\" res=\"144p\" fps=\"25fps\" vcodec=\"avc1.4d400c\" progressive=\"False\" type=\"video\">, <Stream: itag=\"278\" mime_type=\"video/webm\" res=\"144p\" fps=\"25fps\" vcodec=\"vp9\" progressive=\"False\" type=\"video\">, <Stream: itag=\"139\" mime_type=\"audio/mp4\" abr=\"48kbps\" acodec=\"mp4a.40.5\" progressive=\"False\" type=\"audio\">, <Stream: itag=\"140\" mime_type=\"audio/mp4\" abr=\"128kbps\" acodec=\"mp4a.40.2\" progressive=\"False\" type=\"audio\">, <Stream: itag=\"249\" mime_type=\"audio/webm\" abr=\"50kbps\" acodec=\"opus\" progressive=\"False\" type=\"audio\">, <Stream: itag=\"250\" mime_type=\"audio/webm\" abr=\"70kbps\" acodec=\"opus\" progressive=\"False\" type=\"audio\">, <Stream: itag=\"251\" mime_type=\"audio/webm\" abr=\"160kbps\" acodec=\"opus\" progressive=\"False\" type=\"audio\">]\n"
     ]
    }
   ],
   "source": [
    "print(video.streams)"
   ]
  },
  {
   "cell_type": "code",
   "execution_count": 31,
   "id": "2261f0d4-f0d8-40e8-af9d-bf6f3a662e6e",
   "metadata": {},
   "outputs": [
    {
     "name": "stdout",
     "output_type": "stream",
     "text": [
      "Downloading your video ...\n",
      "Download is completed ...\n"
     ]
    }
   ],
   "source": [
    "youtube_stream = video.streams.get_highest_resolution()\n",
    "print('Downloading your video ...')\n",
    "youtube_stream.download()\n",
    "print('Download is completed ...')"
   ]
  },
  {
   "cell_type": "code",
   "execution_count": 33,
   "id": "b24a1875-1bc8-4ab5-9ba2-ca83edc3ab66",
   "metadata": {},
   "outputs": [
    {
     "name": "stdout",
     "output_type": "stream",
     "text": [
      "Downloading the audio stream ...\n",
      "Downloading the audio stream completed ...\n"
     ]
    }
   ],
   "source": [
    "audio_file = video.streams.filter(only_audio=True).first()\n",
    "print('Downloading the audio stream ...')\n",
    "output_file = audio_file.download()\n",
    "print('Downloading the audio stream completed ...')"
   ]
  },
  {
   "cell_type": "code",
   "execution_count": 34,
   "id": "53b8e6d3-06e8-4a22-adf9-45c480ee7330",
   "metadata": {},
   "outputs": [],
   "source": [
    "basename = os.path.basename(output_file)\n",
    "name, extension = os.path.splitext(basename)\n",
    "audio_file = f'{name}.mp3'\n",
    "os.rename(basename, audio_file)"
   ]
  },
  {
   "cell_type": "code",
   "execution_count": 35,
   "id": "2b19fbd8-9381-4ae5-b39a-056cc289c93e",
   "metadata": {},
   "outputs": [],
   "source": [
    "def youtube_audio_download(link):\n",
    "    from pytube import YouTube\n",
    "    import os\n",
    "\n",
    "    video = YouTube(link)\n",
    "    \n",
    "    audio_file = video.streams.filter(only_audio=True).first()\n",
    "    print('Downloading the audio stream ...')\n",
    "    output_file = audio_file.download()\n",
    "    print('Downloading the audio stream completed ...')\n",
    "    \n",
    "    basename = os.path.basename(output_file)\n",
    "    name, extension = os.path.splitext(basename)\n",
    "    audio_file = f'{name}.mp3'\n",
    "    os.rename(basename, audio_file)\n",
    "\n",
    "    return audio_file"
   ]
  },
  {
   "cell_type": "code",
   "execution_count": 37,
   "id": "8e6b17cd-d6d1-4c2c-b899-0af816345b03",
   "metadata": {},
   "outputs": [
    {
     "name": "stdout",
     "output_type": "stream",
     "text": [
      "Downloading the audio stream ...\n",
      "Downloading the audio stream completed ...\n",
      "7 Powerful Hacks for Better Sleep.mp3\n"
     ]
    }
   ],
   "source": [
    "mp3_file = youtube_audio_download(\"https://www.youtube.com/watch?v=XBq6Tm2gv-4\")\n",
    "print(mp3_file)"
   ]
  },
  {
   "cell_type": "markdown",
   "id": "285862ee-a918-4eed-9274-a3070fcbd50f",
   "metadata": {},
   "source": [
    "#### Transcribing audio file using Whisper "
   ]
  },
  {
   "cell_type": "code",
   "execution_count": 38,
   "id": "d7d7da73-41f0-44a2-927d-4fe6e576b7f6",
   "metadata": {},
   "outputs": [],
   "source": [
    "def transcribe(audio_file, not_english=False):\n",
    "    if not os.path.exists(audio_file):\n",
    "        print('Audio file provided does not exist!')\n",
    "        return False\n",
    "\n",
    "    if not_english:\n",
    "        print('Starting translating to English ...', end='')\n",
    "        transcription = client.audio.translations.create(\n",
    "            model='whisper-1',\n",
    "            file=open(audio_file, 'rb')\n",
    "        )\n",
    "    else:\n",
    "        print('Starting transcription ...', end='')\n",
    "        transcription = client.audio.transcriptions.create(\n",
    "            model='whisper-1',\n",
    "            file=open(audio_file, 'rb')\n",
    "        )\n",
    "        print('Transcription Completed!')\n",
    "\n",
    "    name, extension = os.path.splitext(audio_file)\n",
    "    transcription_filename=f'transcript-{name}.txt'\n",
    "    with open(transcription_filename, 'w') as f:\n",
    "        f.write(transcription.text)\n",
    "\n",
    "    return transcription_filename"
   ]
  },
  {
   "cell_type": "code",
   "execution_count": 39,
   "id": "00ef058d-6267-4b62-bf57-e0caedb346fc",
   "metadata": {},
   "outputs": [
    {
     "name": "stdout",
     "output_type": "stream",
     "text": [
      "Starting transcription ...Transcription Completed!\n"
     ]
    }
   ],
   "source": [
    "transcription_filename = transcribe(mp3_file)"
   ]
  },
  {
   "cell_type": "code",
   "execution_count": 40,
   "id": "d24e1176-0f17-44b6-adad-52b1721a7982",
   "metadata": {},
   "outputs": [
    {
     "name": "stdout",
     "output_type": "stream",
     "text": [
      "transcript-7 Powerful Hacks for Better Sleep.txt\n"
     ]
    }
   ],
   "source": [
    "print(transcription_filename)"
   ]
  },
  {
   "cell_type": "code",
   "execution_count": 41,
   "id": "a2936fbb-50fe-421a-b97f-f62f8427449f",
   "metadata": {},
   "outputs": [
    {
     "name": "stdout",
     "output_type": "stream",
     "text": [
      "So here's how I hacked sleep. I'm a busy person and when I sleep, I want to be able to get the most restful states of sleep in as little time as possible. You see, sleep is so important to us. It helps us burn fat. It puts us in more positive bliss states. It even improves our cognition at work. Here's a fascinating study that many of you may not have heard about but shows you just how much you're going to lose in productivity if you skip just an hour of sleep. So the U.S. military did an experiment on soldiers and what they found is that soldiers who had seven hours of sleep were 95% accurate on the range. But if they dropped their sleep by just an hour and had six hours of sleep, their accuracy fell by 50%. Think about that. If you pull an all-nighter and you skip out on an hour of sleep, your brain cognition the next day at work is going to plummet by 50%. So how do you hack sleep? How do you make sleep so effective that you wake up every day in your best states and in your best health? Well, here's how I hacked sleep. So here are the devices I recommend. Firstly, the Aura Ring is wonderful. It's very affordable. They've sold over a million rings and Aura helps you measure your sleep. Every morning when you wake up, you simply check your Aura Ring score and boom, you can see how effectively you slept. Now, the second device is really fascinating. It's called Happi. It's a Canadian company and they produced this device that basically emits a frequency that tricks your brain into believing it is taking on any type of neurotransmitter. So Happi can emit a frequency that makes your body believe that it's taking on caffeine and so you get more alert. It can also emit the frequency of melatonin, which is the neurotransmitter that makes you sleep. So I like to take Happi and slide it under my pillow and turn it on so it emits a frequency that tricks my brain into believing I've taken melatonin and thus it makes me sleep better. Now, the third area that you want to pay attention to is a lot of fun. It has to do with lighting. So it turns out that artificial lights, especially blue light from screens, from computers, from your television set, actually tricks your brain into believing that it's daytime and thus prevents your brain from producing some of the biochemistry it needs to produce to help you fall asleep. This is why so many sleep enthusiasts vouch for blue light blocking glasses. They look kind of like this. This blocks about half of the blue light. You can see it's a bit of a yellow lens. It does look kind of cool. This is TrueDark. This is from the biohacker Dave Asprey. This one looks really cool. It blocks a lot of blue light and it's actually really nice to wear at night. It kind of gives the world this gorgeous reddish tone. But here's another tip. Add red light to your bedroom. So I have a simple red light device in my bedroom so that if I have to wake up the middle of the night to, say, use the bathroom, I don't have to turn on my regular bright light because that suddenly jolts you awake. Red light keeps your brain in its sleep mode. Okay, the next device is your air conditioner. Make sure you sleep in a cold room. When you sleep in a cold room, there's this thing called thermogenesis which is activated. Basically, you sleep better but you're also causing your body to burn more calories to keep you warm. So, fat loss advantage. The next device is the Kindle. So, how many of you here read before going to bed? Well, good for you, nerd. The problem is many of us read on an iPhone. The problem with the iPhone is the bright lights and the fact that your iPhone is inevitably going to distract you with WhatsApp messages and Instagram and all of these other things which are going to keep you away from sleep, which is why I like my Kindle because there's no distraction, it feels more like paper, it's better for the eyes, and thus, it helps you sleep better. And finally, candles. Candles, candles, candles everywhere. I have 51 candles in my entire home and at night, I make the lights really dim and I light candles instead. Candle light is beautiful. It's wonderful. It sets the most glorious ambience and it'll also ensure that you're in the right state of mind to sleep better. Now, we come to area number two which is supplements. So, there are a couple of supplements which I strongly recommend for sleep. The first, of course, is melatonin. Now, don't take melatonin every day. I try to take it two to three times a week. You don't want to take it every day because then your brain might become dependent on it. So, melatonin is something you take when you really need to focus on your sleep because let's say you know you're going to be getting a little bit less time than you normally need and you have an important project the next day. But there are a couple of supplements you can take on a daily basis with no side effect that are really going to help. The first is magnesium. Now, there are many different types of magnesium. Here's a list from Maria Saab. Magnesium citrate is for IBS and constipation. Magnesium... Magnesium... Magnesium... Magnesium threonate is histamine mold issues, memory loss, ADHD, autism, epilepsy, and most suited for pregnancy. Magnesium taurate is for anxiety. But the magnesium that you want for sleep is magnesium glycinate. And the best brand of that that I found is Upgrade Magnesium. But there are two other supplements that I absolutely love which help with sleep. The first of which is 5-HTP. So, I take 5-HTP in the morning and it helps you sleep at night. Here's why. 5-HTP helps your body deal with stress so you have a less stressful day. Now, all of this sounds cool, but what is reducing stress in your day got to do with sleep? According to Charlie Morley in his book, Wake Up to Sleep, studies show that if you are rested during the day, in other words, if you have a meditation practice or if you take a nap after lunch, it helps you sleep better at night. Charlie explains it in this way. You're getting your body used to the idea of downtime, of relaxation. And at night, it becomes easier for your body to sink into sleep. So, the less stressed you are throughout your day, the better you sleep at night. Now, the next supplement that you may want to take is CBD. CBD is basically an extract from the marijuana plant. But before you freak out, let me just explain this, folks. The chemical in marijuana that gets you high is THC. THC is removed from this. CBD is the chemical in marijuana that makes your body relax. CBD helps your body relax, helps you sleep, and it is a super effective pain reliever. The problem is it's illegal in parts of the world where the government hasn't got their damn act together to understand the difference between CBD and THC. If you're living in a country where CBD is illegal, please petition your government to legalize this. I had a friend who was going through stage four cancer, and she really needed CBD just to help her ease the pain. It wasn't legal in her country. And that saddens me. CBD is powerful. It helps you sleep, it helps you rest, it helps relieve stress, and it's a really useful pain reliever for people who are going through severe pain. And for CBD, the brand I recommend, especially for women, because it also helps with period pains, is Camilla Organics. Now, if all of these supplements confuse you, and you want just one supplement to help you sleep, this is the one I would probably recommend, Qualia Night. Many people I know, myself included, say that Qualia Night is a truly amazing sleep supplement. You can take it during the day. You don't have to take it before going to bed. But it contains a stack of different chemicals that actually give your body the right states it needs to sleep soundly. These include vitamin B6, magnesium, reishi mushroom, holy basil, hawthorn leaf and flower extract, gotu kola, KSM-66, wild blueberry fruit. It's a long list. Basically, it includes a lot of really good stuff. Finally, cut back on caffeine. So, here's the thing you've got to understand about caffeine. Every time you take a cup of coffee, caffeine has a half-life of about six hours, which means if you drink a cup of coffee at 3 p.m., by 9 p.m., six hours later, half of that cup is still in your system. And at midnight, a quarter of that cup is still in your system. Now, some people claim that they can take coffee at night and still sleep. This is because of their DNA. It turns out that roughly 59% of the population does not metabolize caffeine well, and 41% does have a gene that does metabolize caffeine. You got to know which percentage you're in. If you do not have a gene that metabolizes caffeine well, coffee will keep you up at night. So, cut down on it. Now, here's how you want to do that. Firstly, limit yourself to one cup of coffee a day. And following that one cup, when you still crave coffee, try doing decaf. But it's not just caffeine and the consumption of caffeine that's going to impact your sleep, it's also the food you eat. So, I've been measuring my sleep on my Oura Ring. And one of the things I found is that when I eat after 10 p.m. and then go to bed at midnight, inevitably, my sleep quality drops when your body is digesting food. So, if you eat late at night, it's going to affect your sleep. And no, do not buy into that myth that alcohol, especially red wine, is going to help you sleep better. I used to believe it. Turns out it's not true. Wine will make you tired, but it does not give you the deep sleep that your body needs. So, stop using alcohol as a crutch to get to bed. So, all of this may sound complex, but once you understand this, you start to understand how much control you have over sleep. Here's a big warning though. If you are on sleeping pills, I understand the pain, but you need to know this. According to Dr. Michael Bruce, who is America's sleep doctor, he said sleeping pills can be as addictive as heroin. And that is the problem. Sleeping pills do not give you the deep sleep that your body needs. And when you wake up after sleeping pills, there are all sorts of side effects, please Google this, that can really hurt you. And so, if you are on sleeping pills, it's super important to work with your doctor and to start reducing your dosage and to understand that sleep is fixable. I've given you a string of tools and advice that I've put together to help me sleep soundly at night. And yes, I have gone through periods in my life where I was hooked on sleeping pills. I will never, ever, ever take sleeping pills again. Once you understand just how much in control you are of your own sleep and how fixable it is, you gain the power to take control of your body, of your brain, of your sleep, and your life can completely change. Once you master sleep, it's going to improve your metabolic efficiency. You're going to find yourself burning fat more effectively. If you work out and are trying to build muscle, according to Ben Greenfield, there's only three things you need to focus on, eating lots of protein, lifting high weights, and sleep. If you're looking to perform better at work, getting better sleep will improve your performance at work like nothing else. If you're in a creative field, an entrepreneur, an artist, getting better sleep is going to boost your creativity. So, focus on sleep and know that quality sleep is absolutely within your control. If you enjoyed this video, share it with friends. you\n"
     ]
    }
   ],
   "source": [
    "with open(transcription_filename) as f:\n",
    "    print(f.read())"
   ]
  },
  {
   "cell_type": "markdown",
   "id": "c07f0633-c191-4964-bb1b-23548aeb404c",
   "metadata": {},
   "source": [
    "#### Summarization Function Using GPT Model"
   ]
  },
  {
   "cell_type": "code",
   "execution_count": 44,
   "id": "83152adc-4e45-4604-9a96-72e22339798c",
   "metadata": {},
   "outputs": [],
   "source": [
    "def summarize(transcription_filename):\n",
    "    if not os.path.exists(transcription_filename):\n",
    "        print('The transcript file doesnot exist!')\n",
    "        return False\n",
    "    with open(transcription_filename) as f:\n",
    "        transcript = f.read()\n",
    "\n",
    "    system_prompt = 'I want you to act as my senior assistant'\n",
    "    prompt=f'''\n",
    "    Create a summary of the following text.\n",
    "    Text: {transcript}\n",
    "\n",
    "    1. Add a title to the summary.\n",
    "    2. Your summary should be informative and factual, covering the most aspect of the topic.\n",
    "    3. Start your summary with an introduction paragraph that gives an overview of the topic .\n",
    "    4. End the summary with a conclusion phrase.\n",
    "    '''\n",
    "\n",
    "    print('Starting the summarization process ...', end='')\n",
    "    response = client.chat.completions.create(\n",
    "        model='gpt-3.5-turbo',\n",
    "        messages = [\n",
    "            {'role':'system', 'content': system_prompt},\n",
    "            {'role':'user', 'content': prompt}\n",
    "        ],\n",
    "        max_tokens=2048,\n",
    "        temperature = 1\n",
    "    )\n",
    "    print('Sumamrization is completed!')\n",
    "    res = response.choices[0].message.content\n",
    "    return res"
   ]
  },
  {
   "cell_type": "markdown",
   "id": "d86acd0e-8811-4236-ad0a-9366cee2093f",
   "metadata": {},
   "source": [
    "### Testing the applicaton"
   ]
  },
  {
   "cell_type": "code",
   "execution_count": 49,
   "id": "aa2dd871-dc62-422f-b3f1-ce5edbd7a328",
   "metadata": {},
   "outputs": [
    {
     "name": "stdin",
     "output_type": "stream",
     "text": [
      "Input the link of the YouTube video you want to summarize: https://www.youtube.com/watch?v=K5KAc5CoCuk\n"
     ]
    },
    {
     "name": "stdout",
     "output_type": "stream",
     "text": [
      "Downloading the audio stream ...\n",
      "Downloading the audio stream completed ...\n",
      "Starting translating to English ...Starting the summarization process ...Sumamrization is completed!\n",
      "\n",
      "\n",
      "Title: Reflections on Sweet Suffering and Resilience\n",
      "\n",
      "Introduction: The text delves into the emotions of sweet suffering and the yearning for lost love, expressed through poetic musings on loneliness, pain, and the desire to escape. The protagonist navigates their internal turmoil while dancing through the challenges of life with a mix of love and fear, capturing the essence of resilience in the face of adversity.\n",
      "\n",
      "Summary: The protagonist laments their insignificance without their beloved, wandering through the subway in search of solace. Seeking to forget their immense pain, they yearn to start afresh and run away from their suffering. Despite their struggles, they find moments of joy in dancing with the elements, albeit overshadowed by fear and the looming presence of pain. The narrative unfolds with a sense of surrender in Paris, ultimately culminating in a symbolic act of flying away from the constraints of sorrow. Throughout the emotional journey, the protagonist's resilience shines through as they continue to dance through life's challenges, embracing a childlike wonder amidst the turmoil.\n",
      "\n",
      "Conclusion: The text beautifully captures the intertwined themes of sweet suffering and resilience, showcasing the protagonist's journey through pain, love, and the quest for meaning.\n"
     ]
    }
   ],
   "source": [
    "link = input('Input the link of the YouTube video you want to summarize:')\n",
    "mp3_file = youtube_audio_download(link)\n",
    "transcript_file = transcribe(mp3_file, not_english=True)\n",
    "summary = summarize(transcript_file)\n",
    "print('\\n')\n",
    "print(summary)"
   ]
  },
  {
   "cell_type": "code",
   "execution_count": null,
   "id": "f66403ad-4b64-4bb3-812d-73d9396bea84",
   "metadata": {},
   "outputs": [],
   "source": []
  },
  {
   "cell_type": "code",
   "execution_count": null,
   "id": "00bc009f-c999-4f62-bfa9-55179675d596",
   "metadata": {},
   "outputs": [],
   "source": []
  },
  {
   "cell_type": "code",
   "execution_count": null,
   "id": "4d704c4d-7db3-4fe0-a8c8-746ea24bf067",
   "metadata": {},
   "outputs": [],
   "source": []
  },
  {
   "cell_type": "code",
   "execution_count": null,
   "id": "6a393e79-5615-4f10-be17-6072bb117105",
   "metadata": {},
   "outputs": [],
   "source": []
  },
  {
   "cell_type": "code",
   "execution_count": null,
   "id": "6a50c5a3-970e-4f0a-b7e3-f46c549cee58",
   "metadata": {},
   "outputs": [],
   "source": []
  },
  {
   "cell_type": "code",
   "execution_count": null,
   "id": "a35c70d9-6944-4c61-b4f2-4d239314fe81",
   "metadata": {},
   "outputs": [],
   "source": []
  },
  {
   "cell_type": "code",
   "execution_count": null,
   "id": "e9cb067c-d10a-4666-82d0-6163e3fb6df6",
   "metadata": {},
   "outputs": [],
   "source": []
  },
  {
   "cell_type": "code",
   "execution_count": null,
   "id": "646cd107-dd92-46f6-beb7-0ab804c0e12a",
   "metadata": {},
   "outputs": [],
   "source": []
  },
  {
   "cell_type": "code",
   "execution_count": null,
   "id": "ca538357-87b4-46c0-8ed2-9d42bfd806a9",
   "metadata": {},
   "outputs": [],
   "source": []
  },
  {
   "cell_type": "code",
   "execution_count": null,
   "id": "ab302e3d-f6f7-4e48-9f1e-882569f6e8f5",
   "metadata": {},
   "outputs": [],
   "source": []
  },
  {
   "cell_type": "code",
   "execution_count": null,
   "id": "8f5f6096-04c0-4b5f-99da-9367e3b6cba1",
   "metadata": {},
   "outputs": [],
   "source": []
  },
  {
   "cell_type": "code",
   "execution_count": null,
   "id": "b3d57c5e-631b-46c1-ae37-864fdb5deddd",
   "metadata": {},
   "outputs": [],
   "source": []
  },
  {
   "cell_type": "code",
   "execution_count": null,
   "id": "65f44349-09a3-4b94-abe5-d805c0f410d2",
   "metadata": {},
   "outputs": [],
   "source": []
  }
 ],
 "metadata": {
  "kernelspec": {
   "display_name": "Python 3 (ipykernel)",
   "language": "python",
   "name": "python3"
  },
  "language_info": {
   "codemirror_mode": {
    "name": "ipython",
    "version": 3
   },
   "file_extension": ".py",
   "mimetype": "text/x-python",
   "name": "python",
   "nbconvert_exporter": "python",
   "pygments_lexer": "ipython3",
   "version": "3.11.7"
  }
 },
 "nbformat": 4,
 "nbformat_minor": 5
}

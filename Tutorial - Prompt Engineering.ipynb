{
 "cells": [
  {
   "cell_type": "markdown",
   "id": "b8abb6e7-dd37-4302-baad-b24aca6a9136",
   "metadata": {},
   "source": [
    "### Installing required libraries"
   ]
  },
  {
   "cell_type": "code",
   "execution_count": 4,
   "id": "923b4a0a-08e9-4b8c-968a-f168077d564a",
   "metadata": {},
   "outputs": [
    {
     "name": "stdout",
     "output_type": "stream",
     "text": [
      "Note: you may need to restart the kernel to use updated packages.\n"
     ]
    }
   ],
   "source": [
    "pip install -q langchain-google-genai"
   ]
  },
  {
   "cell_type": "code",
   "execution_count": 5,
   "id": "08ed0591-9642-490a-80bd-bca86998cf2b",
   "metadata": {},
   "outputs": [
    {
     "name": "stdout",
     "output_type": "stream",
     "text": [
      "Note: you may need to restart the kernel to use updated packages.\n"
     ]
    }
   ],
   "source": [
    "pip install -q google-generativeai"
   ]
  },
  {
   "cell_type": "code",
   "execution_count": 6,
   "id": "080af219-8373-48e6-b9d9-1a5abfd9003d",
   "metadata": {},
   "outputs": [
    {
     "name": "stdout",
     "output_type": "stream",
     "text": [
      "Requirement already satisfied: python-dotenv in /opt/anaconda3/lib/python3.11/site-packages (0.21.0)\n"
     ]
    }
   ],
   "source": [
    "!pip install python-dotenv"
   ]
  },
  {
   "cell_type": "markdown",
   "id": "2c0f8fbb-b890-49cb-b966-02bf4b2fe1f0",
   "metadata": {},
   "source": [
    "### Import Environment Variables"
   ]
  },
  {
   "cell_type": "code",
   "execution_count": 18,
   "id": "57a915cc-1815-4435-9255-82a1f3c84cc3",
   "metadata": {},
   "outputs": [
    {
     "name": "stdout",
     "output_type": "stream",
     "text": [
      "API Key Loaded: True\n"
     ]
    }
   ],
   "source": [
    "import os\n",
    "from dotenv import load_dotenv, find_dotenv\n",
    "load_dotenv(find_dotenv(), override=True)\n",
    "print(\"API Key Loaded:\", os.environ.get('GOOGLE_API_KEY') is not None)"
   ]
  },
  {
   "cell_type": "code",
   "execution_count": 21,
   "id": "92c75fd7-674c-481b-aab3-08b9047e7f80",
   "metadata": {},
   "outputs": [],
   "source": [
    "def get_response(prompt, temperature=1):\n",
    "    genai.configure(api_key=os.environ.get('GOOGLE_API_KEY'))\n",
    "    model = genai.GenerativeModel('gemini-pro')\n",
    "    generation_config= genai.types.GenerationConfig(\n",
    "        temperature=temperature, top_k=1, top_p=1\n",
    "    )\n",
    "    response = model.generate_content(prompt, generation_config=generation_config)\n",
    "    return response.parts[0].text"
   ]
  },
  {
   "cell_type": "code",
   "execution_count": 22,
   "id": "599012ce-a16c-489b-a71c-03d48c79c217",
   "metadata": {},
   "outputs": [
    {
     "name": "stdout",
     "output_type": "stream",
     "text": [
      "```python\n",
      "def factorial(n):\n",
      "  \"\"\"Calculates the factorial of a number.\n",
      "\n",
      "  Args:\n",
      "    n: The number to calculate the factorial of.\n",
      "\n",
      "  Returns:\n",
      "    The factorial of n.\n",
      "  \"\"\"\n",
      "\n",
      "  if n < 0:\n",
      "    raise ValueError(\"Factorial is undefined for negative numbers.\")\n",
      "\n",
      "  if n == 0:\n",
      "    return 1\n",
      "\n",
      "  factorial = 1\n",
      "  for i in range(1, n + 1):\n",
      "    factorial *= i\n",
      "\n",
      "  return factorial\n",
      "```\n"
     ]
    }
   ],
   "source": [
    "print(get_response('Create a Python function that calculates the factorial.'))"
   ]
  },
  {
   "cell_type": "markdown",
   "id": "3c0c89b0-0414-4721-a449-77ba6f0edc82",
   "metadata": {},
   "source": [
    "###  Principle 01: Writing clear instructions with delimiters"
   ]
  },
  {
   "cell_type": "markdown",
   "id": "8ba69863-1206-4633-bdd4-5102fef2f597",
   "metadata": {},
   "source": [
    "### Delimiters could be: ***, +++, ---, ###, START,END,DELIMITER, INPUT,<task></task>, etc..."
   ]
  },
  {
   "cell_type": "code",
   "execution_count": 26,
   "id": "e2bc01a1-6fc6-4eb2-b580-e629197fb6ab",
   "metadata": {},
   "outputs": [
    {
     "name": "stdout",
     "output_type": "stream",
     "text": [
      "Natural Language Processing (NLP) combines AI, computer science, and linguistics to enable computers to understand and use human language. It transforms text data into actionable information, allowing computers to summarize text, answer questions, and generate creative content. NLP unlocks vast text-based knowledge and revolutionizes human-technology interaction by enabling natural language communication with devices.\n"
     ]
    }
   ],
   "source": [
    "text = '''\n",
    "NLP is a branch of artificial intelligence that focuses on teaching computers to understand and work with human language. \n",
    "It combines techniques from computer science and linguistics to analyze the structure, meaning, and context within the text. Imagine NLP \n",
    "like a translator – it helps computers decipher the complexities of everyday language so they can perform tasks like summarizing articles, \n",
    "answering your questions, or even generating creative text.\n",
    "Our world is filled with information stored in text formats – books, news articles, social media, and more.  NLP helps us unlock this \n",
    "vast knowledge, enabling computers to process it efficiently.  It also revolutionizes how we interact with technology. Thanks to NLP, \n",
    "we can speak to our devices, ask questions in a natural way, and have them understand our intent.\n",
    "'''\n",
    "\n",
    "prompt=f'''\n",
    "Summarize this text:{text}\n",
    "'''\n",
    "\n",
    "output=get_response(prompt)\n",
    "print(output)"
   ]
  },
  {
   "cell_type": "code",
   "execution_count": 27,
   "id": "18d71851-3015-41e4-9395-44fd5aac9c6e",
   "metadata": {},
   "outputs": [
    {
     "name": "stdout",
     "output_type": "stream",
     "text": [
      "**Summary:**\n",
      "\n",
      "Natural Language Processing (NLP) is a branch of AI that enables computers to understand and manipulate human language by analyzing its structure, meaning, and context. NLP transforms text data into actionable knowledge, facilitating communication between humans and computers and unlocking vast amounts of information.\n",
      "\n",
      "**French Translation:**\n",
      "\n",
      "Le traitement du langage naturel (NLP) est une branche de l'IA qui permet aux ordinateurs de comprendre et de manipuler le langage humain en analysant sa structure, son sens et son contexte. Le NLP transforme les données textuelles en connaissances exploitables, facilitant la communication entre les humains et les ordinateurs et libérant de vastes quantités d'informations.\n"
     ]
    }
   ],
   "source": [
    "prompt=f'''\n",
    "Summarize the text delimited by triple backtics.\n",
    "Translate the summary from English to French.\n",
    "Text: ```{text}```\n",
    "'''\n",
    "\n",
    "output = get_response(prompt)\n",
    "print(output)"
   ]
  },
  {
   "cell_type": "code",
   "execution_count": 29,
   "id": "8bd7f4f2-18f1-45c2-b250-98afafc084fe",
   "metadata": {},
   "outputs": [],
   "source": [
    "email = '''\n",
    "Subject: Meeting follow-up - Urgent!\n",
    "\n",
    "Hi Team, Hope everyone's doing well. Just wanted to recap our action items from the 02/22/2024 brainstorming session. Remember, the deadline is tight!\n",
    "\n",
    "* Task: Sarah to draft the proposal\n",
    "* Due Date: 02/28/2024\n",
    "* Task: Mark to finalize the budget spreadsheet.\n",
    "* Due Date: 02/26/2024 (ASAP)\n",
    "* Contact: Client point of contact is Jennifer - jennifer.lincoln@clientcompany.com \n",
    "\n",
    "Let's hustle! \n",
    "'''"
   ]
  },
  {
   "cell_type": "code",
   "execution_count": 30,
   "id": "79f42358-213e-40ad-af78-8af936ba0967",
   "metadata": {},
   "outputs": [
    {
     "name": "stdout",
     "output_type": "stream",
     "text": [
      "| Task | Assignee | Due Date |\n",
      "|---|---|---|\n",
      "| Draft the proposal | Sarah | 02/28/2024 |\n",
      "| Finalize the budget spreadsheet | Mark | 02/26/2024 |\n"
     ]
    }
   ],
   "source": [
    "prompt = f'''\n",
    "TASK: Extract the task, assignee, and due date from the email below.\n",
    "Format the output as a table.\n",
    "\n",
    "DELIMITER START\n",
    "***\n",
    "{email}\n",
    "***\n",
    "DELIMITER END\n",
    "'''\n",
    "\n",
    "output = get_response(prompt)\n",
    "print(output)"
   ]
  },
  {
   "cell_type": "markdown",
   "id": "32fa92e7-8f19-4293-a1b8-846321ab4c42",
   "metadata": {},
   "source": [
    "### Be specific, descriptive, & detailed"
   ]
  },
  {
   "cell_type": "code",
   "execution_count": 32,
   "id": "e361cc9f-c357-4be8-96e1-bd73f3ea1fba",
   "metadata": {},
   "outputs": [
    {
     "name": "stdout",
     "output_type": "stream",
     "text": [
      "* **Overall Sentiment:** Positive\n",
      "* **Sentiment Score:** +0.9\n"
     ]
    }
   ],
   "source": [
    "review='''\n",
    "This is the best laptop I've ever owned! It's super fast, the keyboard feels great to type on, and the screen is so clear and vibrant.\n",
    "'''\n",
    "\n",
    "prompt = f'''\n",
    "Analyze the sentiment of the following product review. Provide the following output:\n",
    "\n",
    "* **Overall Sentiment:** Clearly state whether the review is 'positive', 'negative', or 'neutral'.\n",
    "* **Sentiment Score:** Assign a numerical score from -1 (very negative) to +1 (very positive) representing the review's overall tone.\n",
    "\n",
    "Review: `{review}` \n",
    "'''\n",
    "\n",
    "output = get_response(prompt)\n",
    "print(output)"
   ]
  },
  {
   "cell_type": "code",
   "execution_count": 34,
   "id": "2f5815ec-75ed-49cb-ab1e-73ed098fcd09",
   "metadata": {},
   "outputs": [
    {
     "name": "stdout",
     "output_type": "stream",
     "text": [
      "Natural Language Processing (NLP) empowers computers to comprehend human language, unlocking textual data and revolutionizing human-computer interaction.\n"
     ]
    }
   ],
   "source": [
    "prompt = f'''\n",
    "Summarize the text delimited by triple backticks in at most 30 words.\n",
    "Text: ```{text}```\n",
    "'''\n",
    "\n",
    "output = get_response(prompt)\n",
    "print(output)"
   ]
  },
  {
   "cell_type": "code",
   "execution_count": 35,
   "id": "ad44833a-b447-48ba-b618-c5fe5f4675c7",
   "metadata": {},
   "outputs": [
    {
     "name": "stdout",
     "output_type": "stream",
     "text": [
      "Summary length in words: 17\n"
     ]
    }
   ],
   "source": [
    "print(f'Summary length in words: {len(output.split())}')"
   ]
  },
  {
   "cell_type": "code",
   "execution_count": 37,
   "id": "07308290-e954-47e7-b110-8eaf5ad5a180",
   "metadata": {},
   "outputs": [
    {
     "name": "stdout",
     "output_type": "stream",
     "text": [
      "Natural Language Processing (NLP) uses techniques from computer science and linguistics to enable computers to comprehend and manipulate human language. Key points include:\n",
      "\n",
      "- NLP focuses on teaching computers to understand and work with human language.\n",
      "- It combines techniques from computer science and linguistics to analyze text structure, meaning, and context.\n",
      "- NLP empowers computers to summarize articles, answer questions, and generate creative text.\n",
      "- It unlocks vast amounts of text-based information, revolutionizing the way computers process and interact with humans.\n",
      "- NLP allows for natural language interactions with technology, such as speech and question-asking.\n"
     ]
    }
   ],
   "source": [
    "prompt = f'''\n",
    "Summarize the text delimited by triple backticks.\n",
    "Begin the summary with an introductory sentence, followed by a bulleted list highlighting the key points.\n",
    "Text: ```{text}```\n",
    "'''\n",
    "\n",
    "output = get_response(prompt)\n",
    "print(output)"
   ]
  },
  {
   "cell_type": "code",
   "execution_count": 38,
   "id": "a1561079-6b0c-46d9-805e-68ad897d2a48",
   "metadata": {},
   "outputs": [
    {
     "name": "stdout",
     "output_type": "stream",
     "text": [
      "```python\n",
      "def calculate_rectangle_area(width, height):\n",
      "  \"\"\"Calculate the area of a rectangle given its width and height.\n",
      "\n",
      "  Args:\n",
      "    width: The width of the rectangle in units.\n",
      "    height: The height of the rectangle in units.\n",
      "\n",
      "  Returns:\n",
      "    The area of the rectangle in square units.\n",
      "  \"\"\"\n",
      "\n",
      "  area = width * height\n",
      "  return area\n",
      "\n",
      "\n",
      "# Example usage:\n",
      "width = 5\n",
      "height = 10\n",
      "print(calculate_rectangle_area(width, height))  # Output: 50\n",
      "```\n"
     ]
    }
   ],
   "source": [
    "prompt=f'''\n",
    "Write Python code to calculate the area of a rectangle.\n",
    "Follow these steps:\n",
    "1. Begin with a def statement to define a function named calculate_rectangle_area(width, height).\n",
    "2. Inside the function, calculate the area using the formula area = width * height.\n",
    "3. Add a return area statement to return the calculated result.\n",
    "4. Include a docstring above the function that briefly explains its purpose and parameters.\n",
    "5. Immediately after the function, add two lines of code demonstrating how to call the function with example values and print the output.\n",
    "'''\n",
    "\n",
    "output = get_response(prompt)\n",
    "print(output)"
   ]
  },
  {
   "cell_type": "markdown",
   "id": "37c6988c-cee7-4d63-a96b-a48741ff3b8c",
   "metadata": {},
   "source": [
    "### Specify the Response Format"
   ]
  },
  {
   "cell_type": "code",
   "execution_count": 42,
   "id": "b1d25901-3f28-4069-a734-1945393fe58e",
   "metadata": {},
   "outputs": [
    {
     "name": "stdout",
     "output_type": "stream",
     "text": [
      "**Scandinavian Minimalist Living Room**\n",
      "\n",
      "**Base:**\n",
      "\n",
      "* Walls: White throughout to create a bright and airy feel.\n",
      "* Flooring: Light wood laminate flooring to complement the Scandinavian aesthetic and add warmth.\n",
      "\n",
      "**Furniture:**\n",
      "\n",
      "* Mid-Century Modern Sofa: A classic Chesterfield sofa in a vibrant navy blue fabric, adding a touch of sophistication while keeping the space modern.\n",
      "* Woven Rug: A large jute rug with a subtle geometric pattern, defining the seating area and adding texture.\n",
      "* Tall Bookshelf: A Scandinavian-inspired bookshelf with open shelves and legs tapered at the bottom. It's painted in a light gray color to blend seamlessly with the white walls.\n",
      "\n",
      "**Art and Decor:**\n",
      "\n",
      "* Large Abstract Painting: A statement piece hanging above the sofa, incorporating muted blues, grays, and whites to complement the color scheme.\n",
      "* Indoor Plants: A large fiddle-leaf fig plant in a white ceramic pot, adding greenery and freshness.\n",
      "* Throws and Cushions: Soft throws and cushions in shades of navy, gray, and white, providing comfort and inviting a cozy atmosphere.\n",
      "\n",
      "**Layout:**\n",
      "\n",
      "The sofa is positioned facing the large abstract painting, creating a focal point. The bookshelf is placed parallel to the sofa, providing ample storage and adding visual interest. The rug defines the seating area and ties the elements together. The fiddle-leaf fig plant is placed in a corner, adding height to the space.\n",
      "\n",
      "**Lighting:**\n",
      "\n",
      "* Natural Light: Large windows allow for an abundance of natural light, illuminating the room and enhancing the Scandinavian aesthetic.\n",
      "* Overhead Lighting: A minimalist pendant lamp with a white shade hangs above the seating area, providing soft ambient lighting.\n",
      "* Table Lamps: Small table lamps with white or gray ceramic bases and linen shades are placed on the bookshelf and console table, creating intimate pockets of light.\n",
      "\n",
      "**Overall Feel:**\n",
      "\n",
      "The Scandinavian minimalist living room exudes a sense of simplicity, sophistication, and tranquility. The clean lines, muted colors, and natural materials create a space that is both inviting and calming. The use of statement pieces and thoughtful details adds interest without overwhelming the overall minimalist aesthetic.\n"
     ]
    }
   ],
   "source": [
    "existing_items = ['mid-century modern sofa', 'large abstract painting', 'woven rug', 'tall bookshelf']\n",
    "room_type = 'living room'\n",
    "design_style = 'Scandinavian minimalist' \n",
    "prompt = f'''\n",
    "Design a {room_type} using the following existing items: `{existing_items}`.  Adhere to a {design_style} aesthetic.\n",
    "'''\n",
    "output = get_response(prompt)\n",
    "print(output)"
   ]
  },
  {
   "cell_type": "code",
   "execution_count": 43,
   "id": "07b43196-48cb-4098-8600-05910dc8111b",
   "metadata": {},
   "outputs": [
    {
     "name": "stdout",
     "output_type": "stream",
     "text": [
      "```html\n",
      "<!DOCTYPE html>\n",
      "<html>\n",
      "<head>\n",
      "  <meta charset=\"UTF-8\">\n",
      "  <title>Scandinavian Minimalist Living Room</title>\n",
      "  <style>\n",
      "    body {\n",
      "      font-family: Arial, sans-serif;\n",
      "    }\n",
      "\n",
      "    .room-overview-container {\n",
      "      background-color: #f5f5f5;\n",
      "      padding: 30px;\n",
      "      margin: 20px 0;\n",
      "    }\n",
      "\n",
      "    .furniture-decor-list {\n",
      "      list-style-type: none;\n",
      "      padding: 0;\n",
      "      margin: 0;\n",
      "    }\n",
      "\n",
      "    .color-palette {\n",
      "      display: flex;\n",
      "      justify-content: space-around;\n",
      "      align-items: center;\n",
      "      margin: 20px 0;\n",
      "    }\n",
      "\n",
      "    .color-swatch {\n",
      "      width: 50px;\n",
      "      height: 50px;\n",
      "      border: 1px solid black;\n",
      "    }\n",
      "  </style>\n",
      "</head>\n",
      "<body>\n",
      "  <div class=\"room-overview-container\">\n",
      "    <h1>Scandinavian Minimalist Living Room Design</h1>\n",
      "    <p>This living room design combines the sleek lines of mid-century modern furniture with the cozy textures and neutral color palette of Scandinavian minimalism. The result is a space that is both stylish and inviting.</p>\n",
      "  </div>\n",
      "\n",
      "  <div class=\"furniture-decor-list\">\n",
      "    <ul>\n",
      "      <li><b>Mid-Century Modern Sofa:</b> A sleek and comfortable sofa with clean lines and plush cushions.</li>\n",
      "      <li><b>Large Abstract Painting:</b> A bold and colorful abstract painting that adds a touch of personality to the room.</li>\n",
      "      <li><b>Woven Rug:</b> A soft and inviting rug made from natural fibers, such as wool or jute.</li>\n",
      "      <li><b>Tall Bookshelf:</b> A functional and stylish bookshelf that provides storage for books, plants, and other decorative items.</li>\n",
      "    </ul>\n",
      "  </div>\n",
      "\n",
      "  <div class=\"color-palette\">\n",
      "    <div class=\"color-swatch\" style=\"background-color: #ffffff\"></div>\n",
      "    <div class=\"color-swatch\" style=\"background-color: #e0e0e0\"></div>\n",
      "    <div class=\"color-swatch\" style=\"background-color: #a0a0a0\"></div>\n",
      "    <div class=\"color-swatch\" style=\"background-color: #000000\"></div>\n",
      "  </div>\n",
      "\n",
      "  <!-- Comments explaining design choices: -->\n",
      "  <!-- \n",
      "    * The neutral color palette and natural materials create a sense of calm and serenity.\n",
      "    * The use of clean lines and simple shapes gives the room a modern and minimalist feel.\n",
      "    * The large abstract painting adds a touch of visual interest and personality without being overwhelming.\n",
      "  -->\n",
      "</body>\n",
      "</html>\n",
      "```\n"
     ]
    }
   ],
   "source": [
    "output_format = 'HTML 5 with CSS' \n",
    "existing_items = ['mid-century modern sofa', 'large abstract painting', 'woven rug', 'tall bookshelf']\n",
    "room_type = 'living room'\n",
    "design_style = 'Scandinavian minimalist' \n",
    "\n",
    "prompt = f'''\n",
    "Design a {room_type} using the following existing items: `{existing_items}`.  Adhere to a {design_style} aesthetic.\n",
    "\n",
    "Instructions:\n",
    "1. The design MUST incorporate all the provided items.\n",
    "2. Respond with HTML5 code to structure the following content blocks:\n",
    "    * Room Overview: A short paragraph describing the overall design and feel.\n",
    "    * Furniture & Decor: A list of suggested items with brief descriptions.\n",
    "    * Color Palette: Display 3-4 color swatches with their hex codes.\n",
    "3. Include basic CSS styling for clean presentation:\n",
    "    * Simple container classes (e.g., \"room-overview-container\")\n",
    "    * Font choices aligning with the design style\n",
    "    * Background colors, margins, and padding as needed\n",
    "4. Offer 2-3 sentences (within an HTML comment) explaining how your design choices achieve the {design_style} feel. \n",
    "\n",
    "Before responding, ensure that you have strictly followed the instructions outlined above (points 1 to 4).\n",
    "'''\n",
    "\n",
    "output = get_response(prompt)\n",
    "print(output)"
   ]
  },
  {
   "cell_type": "code",
   "execution_count": 44,
   "id": "cb5838ee-8dbb-4e45-bc4e-68455231de04",
   "metadata": {},
   "outputs": [
    {
     "data": {
      "text/html": [
       "```html\n",
       "<!DOCTYPE html>\n",
       "<html>\n",
       "<head>\n",
       "  <meta charset=\"UTF-8\">\n",
       "  <title>Scandinavian Minimalist Living Room</title>\n",
       "  <style>\n",
       "    body {\n",
       "      font-family: Arial, sans-serif;\n",
       "    }\n",
       "\n",
       "    .room-overview-container {\n",
       "      background-color: #f5f5f5;\n",
       "      padding: 30px;\n",
       "      margin: 20px 0;\n",
       "    }\n",
       "\n",
       "    .furniture-decor-list {\n",
       "      list-style-type: none;\n",
       "      padding: 0;\n",
       "      margin: 0;\n",
       "    }\n",
       "\n",
       "    .color-palette {\n",
       "      display: flex;\n",
       "      justify-content: space-around;\n",
       "      align-items: center;\n",
       "      margin: 20px 0;\n",
       "    }\n",
       "\n",
       "    .color-swatch {\n",
       "      width: 50px;\n",
       "      height: 50px;\n",
       "      border: 1px solid black;\n",
       "    }\n",
       "  </style>\n",
       "</head>\n",
       "<body>\n",
       "  <div class=\"room-overview-container\">\n",
       "    <h1>Scandinavian Minimalist Living Room Design</h1>\n",
       "    <p>This living room design combines the sleek lines of mid-century modern furniture with the cozy textures and neutral color palette of Scandinavian minimalism. The result is a space that is both stylish and inviting.</p>\n",
       "  </div>\n",
       "\n",
       "  <div class=\"furniture-decor-list\">\n",
       "    <ul>\n",
       "      <li><b>Mid-Century Modern Sofa:</b> A sleek and comfortable sofa with clean lines and plush cushions.</li>\n",
       "      <li><b>Large Abstract Painting:</b> A bold and colorful abstract painting that adds a touch of personality to the room.</li>\n",
       "      <li><b>Woven Rug:</b> A soft and inviting rug made from natural fibers, such as wool or jute.</li>\n",
       "      <li><b>Tall Bookshelf:</b> A functional and stylish bookshelf that provides storage for books, plants, and other decorative items.</li>\n",
       "    </ul>\n",
       "  </div>\n",
       "\n",
       "  <div class=\"color-palette\">\n",
       "    <div class=\"color-swatch\" style=\"background-color: #ffffff\"></div>\n",
       "    <div class=\"color-swatch\" style=\"background-color: #e0e0e0\"></div>\n",
       "    <div class=\"color-swatch\" style=\"background-color: #a0a0a0\"></div>\n",
       "    <div class=\"color-swatch\" style=\"background-color: #000000\"></div>\n",
       "  </div>\n",
       "\n",
       "  <!-- Comments explaining design choices: -->\n",
       "  <!-- \n",
       "    * The neutral color palette and natural materials create a sense of calm and serenity.\n",
       "    * The use of clean lines and simple shapes gives the room a modern and minimalist feel.\n",
       "    * The large abstract painting adds a touch of visual interest and personality without being overwhelming.\n",
       "  -->\n",
       "</body>\n",
       "</html>\n",
       "```"
      ],
      "text/plain": [
       "<IPython.core.display.HTML object>"
      ]
     },
     "metadata": {},
     "output_type": "display_data"
    }
   ],
   "source": [
    "from IPython.display import display, HTML\n",
    "display(HTML(output))"
   ]
  },
  {
   "cell_type": "markdown",
   "id": "7e4bcaf1-b6c7-415c-a765-bc97feabdfa7",
   "metadata": {},
   "source": [
    "### Few-Shot Prompting"
   ]
  },
  {
   "cell_type": "code",
   "execution_count": 47,
   "id": "9cbc5532-0ad4-4426-b90e-8df3a85a2ca6",
   "metadata": {},
   "outputs": [
    {
     "name": "stdout",
     "output_type": "stream",
     "text": [
      "* Joyful\n",
      "* Merry\n",
      "* Cheerful\n",
      "* Jubilant\n",
      "* Elated\n",
      "* Blissful\n",
      "* Delighted\n",
      "* Beaming\n",
      "* Radiant\n",
      "* Content\n"
     ]
    }
   ],
   "source": [
    "prompt=f'''\n",
    "TASK: Find several synonyms for the word \"happy\". \n",
    "'''\n",
    "\n",
    "output=get_response(prompt)\n",
    "print(output)"
   ]
  },
  {
   "cell_type": "code",
   "execution_count": 49,
   "id": "4ebf5cc6-3c5a-4cd6-b9c4-55dc5ab705fb",
   "metadata": {},
   "outputs": [
    {
     "name": "stdout",
     "output_type": "stream",
     "text": [
      "Word: happy\n",
      "Synonyms: joyful, elated, cheerful, merry, delighted, overjoyed\n"
     ]
    }
   ],
   "source": [
    "prompt=f'''\n",
    "TASK: Find several synonyms for the word below.\n",
    "\n",
    "EXAMPLES:\n",
    "* Word: beautiful  Synonyms: stunning, gorgeous, attractive\n",
    "* Word: large  Synonyms: big, enormous, vast\n",
    "\n",
    "Word: happy \n",
    "'''\n",
    "\n",
    "output=get_response(prompt)\n",
    "print(output)"
   ]
  },
  {
   "cell_type": "markdown",
   "id": "237b2269-4a8d-46de-8f8b-20a0dac09fbd",
   "metadata": {},
   "source": [
    "### Specify the steps required to complete a task"
   ]
  },
  {
   "cell_type": "code",
   "execution_count": 51,
   "id": "1d01b2e1-fbed-4384-8676-15aaa2bb7cb8",
   "metadata": {},
   "outputs": [
    {
     "name": "stdout",
     "output_type": "stream",
     "text": [
      "Revised Text: \"Our project is progressing steadily, and with our unwavering determination, we are confident of meeting the deadline. The journey may have unexpected detours, but we remain optimistic and focused on the end goal.\"\n"
     ]
    }
   ],
   "source": [
    "prompt='''\n",
    "Task: Rewrite this text passage to sound more cheerful and optimistic.\n",
    "\n",
    "Original Text: \"The project is taking longer than expected, and I'm worried about the deadline.\"\n",
    "'''\n",
    "\n",
    "output=get_response(prompt)\n",
    "print(output)"
   ]
  },
  {
   "cell_type": "code",
   "execution_count": 52,
   "id": "5c7cf113-e60b-4a0b-b4ca-9354b8e785cc",
   "metadata": {},
   "outputs": [
    {
     "name": "stdout",
     "output_type": "stream",
     "text": [
      "**Original Text:**\n",
      "\n",
      "Times are tough right now. With the economy in a slump and unemployment on the rise, it's natural to feel worried. The extra work and longer hours are taking their toll, and it's easy to get overwhelmed.\n",
      "\n",
      "**Cheerful and Optimistic Text:**\n",
      "\n",
      "Times may present some challenges, but they also offer us opportunities. While the economy may be experiencing fluctuations, it gives us more time to focus on our strengths and develop innovative ideas. The additional workload and extended hours provide us with an excellent chance to hone our skills and make a significant contribution to our team's success.\n",
      "\n",
      "Instead of being overwhelmed, we can embrace these challenges with enthusiasm. They give us the chance to show our resilience, creativity, and dedication. By maintaining a positive mindset, we can navigate these times with grace and emerge stronger than ever.\n",
      "\n",
      "Remember, adversity can bring forth growth and strength. Let's face these challenges head-on with a spirit of optimism and determination. Together, we will overcome obstacles and create a brighter future for ourselves and our loved ones.\n"
     ]
    }
   ],
   "source": [
    "prompt='''\n",
    "Task: Rewrite this text passage to sound more cheerful and optimistic. Follow these steps:\n",
    "\n",
    "1. Identify words with negative connotations (e.g., \"worried\").\n",
    "2. Replace negative words with positive alternatives (e.g., \"worried\" -> \"excited\").\n",
    "3. Adjust sentence structure if needed to emphasize the positive aspects (e.g., \"taking longer\" -> \"gives us more time to perfect\").\n",
    "'''\n",
    "\n",
    "output=get_response(prompt)\n",
    "print(output)"
   ]
  },
  {
   "cell_type": "markdown",
   "id": "68a37d9e-9e92-43fd-8404-9996d70866fd",
   "metadata": {},
   "source": [
    "### Give Models Time to \"Think\""
   ]
  },
  {
   "cell_type": "code",
   "execution_count": 53,
   "id": "0bde3089-679d-4f2d-806d-e91b9097c2fe",
   "metadata": {},
   "outputs": [
    {
     "name": "stdout",
     "output_type": "stream",
     "text": [
      "**Impact of Social Media on Modern Society**\n",
      "\n",
      "Social media has become an integral part of modern society, transforming various aspects of our lives. Its pervasive influence has both positive and negative consequences, shaping communication, information dissemination, and human behavior.\n",
      "\n",
      "**Positive Impacts:**\n",
      "\n",
      "* **Enhanced Communication:** Social media platforms facilitate instant and global communication. People can easily connect with friends, family, and colleagues regardless of distance. It also enables communication with diverse communities and perspectives.\n",
      "* **Information Dissemination:** Social media has become a primary source of news and information. It allows individuals to access a wider range of perspectives and opinions, fostering informed decision-making.\n",
      "* **Community Building:** Social media platforms foster virtual communities based on shared interests or demographics. It creates a sense of belonging and provides opportunities for social interaction and support.\n",
      "* **Economic Opportunities:** Social media platforms empower individuals and businesses to reach a wider audience. It enables micro-entrepreneurship, online marketplaces, and remote work opportunities.\n",
      "* **Educational Resource:** Social media can be used as a tool for education and lifelong learning. It provides access to educational content, facilitates online discussion forums, and connects learners with experts.\n",
      "\n",
      "**Negative Impacts:**\n",
      "\n",
      "* **Privacy Concerns:** Social media companies collect vast amounts of user data, raising concerns about privacy violations. Sharing personal information can lead to identity theft, targeted advertising, or surveillance.\n",
      "* **Echo Chambers:** Social media algorithms tend to filter content based on individual preferences, creating echo chambers where users are only exposed to information and opinions that align with their own. This can exacerbate polarization and hinder critical thinking.\n",
      "* **Mental Health Issues:** Excessive use of social media has been linked to negative mental health outcomes such as anxiety, depression, and body image concerns. Constant comparison and the pressure to conform can harm self-esteem.\n",
      "* **Cyberbullying and Harassment:** Social media platforms can be breeding grounds for cyberbullying and harassment. Anonymity and the lack of immediate consequences encourage abusive behavior.\n",
      "* **Spread of Misinformation:** Social media has facilitated the rapid dissemination of misinformation and fake news, posing challenges to critical thinking and informed decision-making.\n",
      "\n",
      "**Mitigation Strategies:**\n",
      "\n",
      "* Regulate data collection and protect user privacy.\n",
      "* Combat echo chambers by ensuring exposure to diverse perspectives.\n",
      "* Promote digital literacy and critical thinking skills.\n",
      "* Address cyberbullying and harassment through reporting mechanisms and support resources.\n",
      "* Hold social media platforms accountable for the spread of misinformation.\n",
      "\n",
      "**Conclusion:**\n",
      "\n",
      "Social media has a profound impact on modern society, offering both opportunities and challenges. By understanding its positive and negative consequences, and implementing appropriate mitigation strategies, we can harness its potential while minimizing its harmful effects. Social media should be used wisely and responsibly, fostering communication, information sharing, and community building, while protecting privacy, promoting well-being, and ensuring access to reliable information.\n"
     ]
    }
   ],
   "source": [
    "prompt = '''\n",
    "TASK:  Analyze the impact of social media on modern society. \n",
    "'''\n",
    "\n",
    "output = get_response(prompt)\n",
    "print(output)"
   ]
  },
  {
   "cell_type": "code",
   "execution_count": 54,
   "id": "3f5f440c-f33e-4903-85ec-597e2ee11f19",
   "metadata": {},
   "outputs": [
    {
     "name": "stdout",
     "output_type": "stream",
     "text": [
      "**Introduction**\n",
      "\n",
      "Social media, a ubiquitous force in contemporary society, has profoundly influenced our lives. It has become an integral part of communication, information sharing, self-expression, and social interaction. However, its widespread adoption has also raised concerns about its impact on individuals and society as a whole.\n",
      "\n",
      "**Positive Influences**\n",
      "\n",
      "* **Increased connectivity:** Social media platforms facilitate seamless communication across geographical distances, fostering connections between people from diverse backgrounds.\n",
      "* **Access to information:** Social media allows individuals to access news, information, and educational resources from a wide range of sources, broadening their knowledge and understanding.\n",
      "* **Platforms for self-expression:** Social media provides individuals with avenues to express themselves creatively, share their opinions, and connect with like-minded communities.\n",
      "\n",
      "**Negative Influences**\n",
      "\n",
      "* **Spread of misinformation:** Social media's rapid and uncontrolled information sharing can contribute to the propagation of false and misleading information, making it challenging to discern truth from fiction.\n",
      "* **Cyberbullying:** The anonymity provided by social media platforms can embolden individuals to engage in online harassment and bullying, causing psychological harm to victims.\n",
      "* **Mental health concerns:** Excessive social media use can lead to mental health issues such as anxiety, depression, and low self-esteem, particularly among young users.\n",
      "* **Addiction:** Social media's addictive nature can lead to compulsive use and negatively impact individuals' social, academic, and professional lives.\n",
      "\n",
      "**Societal Shifts**\n",
      "\n",
      "* **Communication:** Social media has altered the way we communicate, shifting from face-to-face interactions to online exchanges, potentially impacting social skills development.\n",
      "* **Relationships:** While social media can facilitate connections, it can also strain relationships due to miscommunication, jealousy, or excessive screen time.\n",
      "* **News consumption:** Social media platforms have become significant sources of news and information, challenging traditional media outlets and potentially influencing public discourse and opinion formation.\n"
     ]
    }
   ],
   "source": [
    "prompt = '''\n",
    "Please take the necessary time to carefully consider this prompt and access relevant information from your knowledge base.  \n",
    "Start with an introduction and then the following tasks in a bulleted points.\n",
    "Here's the task:\n",
    "Analyze the impact of social media on modern society. Structure your response as follows:\n",
    "\n",
    "1. Positive Influences: Begin by discussing potential benefits of social media, such as increased connectivity, access to information, \n",
    "and platforms for self-expression. [PAUSE 4 SECONDS]\n",
    "\n",
    "2. Negative Influences:  Describe the potential downsides of social media, including the spread of misinformation, \n",
    "cyberbullying, mental health concerns, and addiction. [PAUSE 5 SECONDS]\n",
    "\n",
    "3. Societal Shifts: Analyze how social media may be changing the way we communicate, \n",
    "form relationships, and consume news and information. [PAUSE 4 SECONDS]\n",
    "'''\n",
    "\n",
    "output = get_response(prompt)\n",
    "print(output)"
   ]
  },
  {
   "cell_type": "markdown",
   "id": "8a1d293b-c6ef-492c-8455-e94b6d6e5d0f",
   "metadata": {},
   "source": [
    "### Reduce Vague and ambiguous descriptions to avoid Hallucinations"
   ]
  },
  {
   "cell_type": "code",
   "execution_count": 55,
   "id": "7215afe4-bcfa-45fc-ab13-8089223597f9",
   "metadata": {},
   "outputs": [
    {
     "name": "stdout",
     "output_type": "stream",
     "text": [
      "In a realm where legend intertwined with reality, there existed a benevolent dragon named Aureus. Unlike the fearsome creatures of lore, Aureus possessed an amiable nature and a heart that burned with golden flames of compassion.\n",
      "\n",
      "Born atop the summit of Mount Zenith, Aureus was a sight to behold. His emerald scales shimmered like a thousand emeralds, and his wings, vast and membranous, stretched the heavens like ethereal tapestries. But beneath his formidable appearance lay a spirit that softened the hearts of all who met him.\n",
      "\n",
      "One fateful day, as Aureus soared through the clouds, his keen eyes caught a glimpse of a small village nestled amidst verdant forests. Curiosity compelled him to descend, his thunderous footsteps shaking the earth. Instead of fear, the villagers greeted him with open arms.\n",
      "\n",
      "They had heard tales of his kindness and wished for his protection against a band of marauding barbarians. Aureus, moved by their plight, vowed to defend them with his fire and breath. For days, he stood watch over the village, his fiery aura keeping the invaders at bay.\n",
      "\n",
      "As the barbarians retreated in defeat, the villagers erupted in cheers and gratitude. But Aureus's influence extended far beyond that day. His gentle presence inspired the villagers to cultivate their own gardens and build sturdy homes, fostering a sense of unity and prosperity.\n",
      "\n",
      "Children would often play around his massive frame, marveling at his glowing scales and the stories he shared of distant lands. Farmers noticed that his breath revitalized their crops, bringing forth bountiful harvests.\n",
      "\n",
      "Years turned into decades, and Aureus's reputation as a guardian and a friend spread throughout the realm. Kingdoms sought his alliance, scholars flocked to his mountain lair to seek his wisdom, and merchants carried tales of his kindness to distant shores.\n",
      "\n",
      "As the sun began its descent each day, Aureus would return to his perch atop Mount Zenith. There, he would gaze upon the village he had protected for so long, his heart filled with a profound sense of contentment.\n",
      "\n",
      "For in the hearts of the villagers, Aureus was not merely a dragon but a symbol of hope, protection, and the indomitable spirit that bound them together. And so, the legend of the Friendly Dragon, Aureus, continued to be whispered through the ages, inspiring generations to come.\n"
     ]
    }
   ],
   "source": [
    "prompt='''\n",
    "Write a story about a friendly dragon\n",
    "'''\n",
    "\n",
    "output = get_response(prompt)\n",
    "print(output)"
   ]
  },
  {
   "cell_type": "code",
   "execution_count": 56,
   "id": "6c9d7fac-a1db-48d3-ac7e-25eebe6a387d",
   "metadata": {},
   "outputs": [
    {
     "name": "stdout",
     "output_type": "stream",
     "text": [
      "In a vibrant meadow filled with wildflowers, there lived a tiny, green dragon named Pip. Pip had a heart of gold and an unusual passion: he adored making flower crowns. With nimble claws, he would weave the petals of daisies, buttercups, and violets into exquisite headpieces that lit up the meadow with beauty.\n",
      "\n",
      "Every morning, Pip would flutter through the meadow, gathering blooms for his crowns. The creatures of the field loved and respected Pip for his gentle nature. Squirrels would chatter happily as he collected acorns for his crowns, and rabbits would hop along beside him, nibbling on clover.\n",
      "\n",
      "One sunny afternoon, as Pip was crafting a particularly elaborate crown for his friend, the meadow mouse, he became careless. A stray spark from his dragon breath set a small patch of grass alight. At first, Pip was amused by the tiny flames, but as they quickly spread, he panicked.\n",
      "\n",
      "The meadow creatures watched in horror as the fire raged through their home. Pip's heart sank as he realized the gravity of his mistake. Determined to make things right, he tried to extinguish the flames, but it was too late. The meadow was engulfed in a sea of orange and red.\n",
      "\n",
      "As the fire subsided, the meadow was left devastated. The wildflowers were charred, and the once-vibrant grasses were now withered and brittle. The creatures were heartbroken; they had lost their home because of Pip's irresponsibility.\n",
      "\n",
      "Filled with remorse, Pip approached the meadow mouse. Tears welled up in his eyes as he apologized for what he had done. The meadow mouse, despite her sadness, showed Pip compassion. She understood that he had not meant to harm anyone and that he had learned a valuable lesson.\n",
      "\n",
      "Together, Pip and the other creatures embarked on the difficult task of rebuilding the meadow. They sowed new seeds, planted saplings, and tended to the remaining vegetation with care. Slowly but surely, the meadow began to heal.\n",
      "\n",
      "Pip never forgot the day he accidentally burned the meadow. The guilt and shame he felt became a reminder of the importance of responsibility. He promised to be more mindful of his actions and to take care of the things he loved.\n",
      "\n",
      "And so, the small, green dragon continued to make his flower crowns, but he always did so with the utmost caution. And as the meadow flourished once more, Pip learned that even the smallest of mistakes can have lasting consequences, and that with responsibility comes the power to make things right.\n"
     ]
    }
   ],
   "source": [
    "prompt='''\n",
    "Write a children's story about a small, green dragon named Pip who loves making flower crowns.\n",
    "When Pip accidently sets a field on fire, he learns a valuable lesson about reponsibility.\n",
    "'''\n",
    "\n",
    "output = get_response(prompt)\n",
    "print(output)"
   ]
  },
  {
   "cell_type": "code",
   "execution_count": 57,
   "id": "cb24e625-75f0-4040-a5d6-5369c8c73cdc",
   "metadata": {},
   "outputs": [
    {
     "name": "stdout",
     "output_type": "stream",
     "text": [
      "**Unleash Your Inner Artist with Our Kaleidoscopic Crayons: A Symphony of Colors!**\n",
      "\n",
      "Welcome to a world where your imagination takes flight with every stroke! Our kaleidoscopic crayons are the ultimate tool for budding artists and seasoned creators alike, transforming your canvas into a vibrant symphony of colors.\n",
      "\n",
      "Imagine the possibilities:\n",
      "\n",
      "* **Spellbinding Swirls:** Create ethereal swirls and mesmerizing patterns with our unique blend of vibrant hues.\n",
      "* **Shimmering Stars:** Add a touch of celestial magic to your drawings with crayons that sparkle like tiny stars.\n",
      "* **Luminous Rainbows:** Paint enchanting rainbows that burst with a spectrum of colors, illuminating your imagination.\n",
      "\n",
      "With a smooth, effortless glide and unparalleled blendability, our crayons offer an unparalleled sensory experience. The rich pigments captivate your senses, igniting creativity and passion within you.\n",
      "\n",
      "Whether you're a young artist just starting to explore their talent or a seasoned pro seeking inspiration for your next masterpiece, our kaleidoscopic crayons are the key to unlocking a vibrant and expressive world. So embrace your inner artist, let your creativity soar, and experience the transformative power of color today!\n"
     ]
    }
   ],
   "source": [
    "prompt = '''\n",
    "Write a product description that doesn't make the product sound boring.\n",
    "'''\n",
    "\n",
    "output = get_response(prompt)\n",
    "print(output)"
   ]
  },
  {
   "cell_type": "code",
   "execution_count": 58,
   "id": "da2df48e-3017-47ef-9e01-c412c6550400",
   "metadata": {},
   "outputs": [
    {
     "name": "stdout",
     "output_type": "stream",
     "text": [
      "**Introducing the Ultimate Game-Changer for Your Skincare Routine:**\n",
      "\n",
      "Get ready to elevate your skincare regimen with the revolutionary Illume Brightening Serum! This potent elixir is infused with a symphony of nature's most powerful ingredients, each carefully selected to combat a myriad of skincare concerns.\n",
      "\n",
      "**A Brightening Revelation:**\n",
      "Banish dullness and welcome a radiant glow with our signature blend of niacinamide, vitamin C, and kojic acid. These powerhouses work synergistically to even out skin tone, fade dark spots, and enhance your complexion's luminosity.\n",
      "\n",
      "**Hydration Haven:**\n",
      "Quench your skin's thirst with hyaluronic acid, nature's humectant extraordinaire. It locks in moisture, plumping up fine lines and wrinkles, leaving your skin supple, smooth, and youthfully hydrated.\n",
      "\n",
      "**Age-Defying Wonder:**\n",
      "Harness the power of peptides and antioxidants to combat the visible signs of aging. These skin-loving ingredients firm and tighten, boosting collagen production and effectively reducing the appearance of wrinkles.\n",
      "\n",
      "**A Sanctuary for Sensitive Skin:**\n",
      "Our Illume Brightening Serum is meticulously crafted to be gentle on even the most delicate skin types. Its hypoallergenic formula, free from harsh chemicals and fragrances, ensures a soothing and effective experience.\n",
      "\n",
      "**Reveal the Radiance Within:**\n",
      "With every application, our Illume Brightening Serum takes your skincare to new heights. Expect a visibly brighter, more even complexion, smoother texture, and a youthful glow that will turn heads.\n",
      "\n",
      "**Order Now and Embark on Your Skin's Transformation:**\n",
      "Don't settle for ordinary skincare. Elevate your routine with the Illume Brightening Serum and witness the radiant transformation of your skin. Order now and let the symphony of nature work its magic!\n"
     ]
    }
   ],
   "source": [
    "prompt='''\n",
    "Write a product description that is engaging, exciting, and highlights the product's unique benefits.\n",
    "'''\n",
    "\n",
    "output = get_response(prompt)\n",
    "print(output)"
   ]
  },
  {
   "cell_type": "code",
   "execution_count": 59,
   "id": "48734866-3d6a-4755-a129-26ec624965d3",
   "metadata": {},
   "outputs": [
    {
     "name": "stdout",
     "output_type": "stream",
     "text": [
      "**The Apple Flip iPhone: A Game-Changer for Foldable Smartphones**\n",
      "\n",
      "**Introduction:**\n",
      "The Apple Flip iPhone is the latest cutting-edge innovation from the tech giant, marking a significant milestone in the foldable smartphone market. With its sleek design, powerful hardware, and unparalleled capabilities, this device is set to revolutionize the mobile experience.\n",
      "\n",
      "**Incredible Display:**\n",
      "The Flip iPhone features a stunning 7.85-inch Dynamic OLED display that folds effortlessly in the middle. The large screen provides an immersive viewing experience, perfect for watching movies, browsing the web, and playing games. The high resolution and vibrant colors ensure crystal-clear and lifelike visuals.\n",
      "\n",
      "**Innovative Hinge:**\n",
      "The Foldable Hinge is a remarkable engineering feat, allowing the device to fold seamlessly without any noticeable crease or gap. It provides smooth and effortless transitions between the unfolded and folded states, offering both flexibility and durability.\n",
      "\n",
      "**Exceptional Performance:**\n",
      "Powered by the A16 Bionic chip, the Flip iPhone delivers exceptional performance. It handles demanding tasks, such as multitasking, gaming, and video editing, with ease and efficiency. The device also features ample RAM and storage, ensuring smooth operation and plenty of space for apps and files.\n",
      "\n",
      "**Versatile Camera System:**\n",
      "The Flip iPhone boasts a triple-lens rear camera system. The 12MP main camera, ultrawide, and telephoto lenses capture stunning images and videos with exceptional clarity and detail. The front-facing camera is equally impressive, providing high-quality selfies and Face ID unlocking.\n",
      "\n",
      "**Foldable Functionality:**\n",
      "The foldable design of the Flip iPhone opens up a world of possibilities. You can use it as a traditional smartphone when folded or unfold it to enjoy a wider screen. The device adapts automatically to the orientation and provides a customized user interface for each mode.\n",
      "\n",
      "**Battery and Charging:**\n",
      "Despite its slim profile, the Flip iPhone features a generous battery that provides all-day power. It supports fast wireless charging, allowing you to conveniently top up the battery without the hassle of wires.\n",
      "\n",
      "**Verdict:**\n",
      "The Apple Flip iPhone is an extraordinary device that sets new standards in the foldable smartphone category. Its stunning display, innovative hinge, exceptional performance, versatile camera system, and foldable functionality make it a truly transformative mobile experience. Whether you're a tech enthusiast, a content creator, or simply seeking a device that enhances your daily life, the Flip iPhone is the perfect choice. With its unparalleled capabilities, it redefines the boundaries of mobile innovation.\n"
     ]
    }
   ],
   "source": [
    "prompt='''\n",
    "Write a product review for the new Flip iPhone from APPLE Inc.\n",
    "'''\n",
    "\n",
    "output= get_response(prompt)\n",
    "print(output)"
   ]
  },
  {
   "cell_type": "code",
   "execution_count": 60,
   "id": "09c6f5dd-23ec-4450-87db-e9ec773ed2fd",
   "metadata": {},
   "outputs": [
    {
     "name": "stdout",
     "output_type": "stream",
     "text": [
      "I have no information about this.\n"
     ]
    }
   ],
   "source": [
    "prompt='''\n",
    "Write a product review for the new Flip iPhone from APPLE Inc,\n",
    "Write only facts about this product according to sources such as Wikipedia, Google Scholar, Britannica or other reliable public sources.\n",
    "Avoid speculative or fictional content.\n",
    "If you don't find information in reliable sources, just respond with \"I have no information about this.\"\n",
    "'''\n",
    "\n",
    "output= get_response(prompt)\n",
    "print(output)"
   ]
  },
  {
   "cell_type": "code",
   "execution_count": null,
   "id": "0cec52b3-07b3-4631-b1d8-80652ec3cbdf",
   "metadata": {},
   "outputs": [],
   "source": []
  },
  {
   "cell_type": "code",
   "execution_count": null,
   "id": "197d7cb0-7dfd-4c4f-9eff-619523140b44",
   "metadata": {},
   "outputs": [],
   "source": []
  },
  {
   "cell_type": "code",
   "execution_count": null,
   "id": "b5bf17a7-e325-4a0c-bd1f-bf7c8c847484",
   "metadata": {},
   "outputs": [],
   "source": []
  },
  {
   "cell_type": "code",
   "execution_count": null,
   "id": "20c9dca6-bf0b-4426-a2e7-c07d5ee8e17e",
   "metadata": {},
   "outputs": [],
   "source": []
  },
  {
   "cell_type": "code",
   "execution_count": null,
   "id": "bbc798e8-2b77-46c9-98df-2e81278ea070",
   "metadata": {},
   "outputs": [],
   "source": []
  },
  {
   "cell_type": "code",
   "execution_count": null,
   "id": "2eca5fa4-e5e8-48a1-898f-906a710b3433",
   "metadata": {},
   "outputs": [],
   "source": []
  },
  {
   "cell_type": "code",
   "execution_count": null,
   "id": "7d27d2f2-1bc3-4686-a2ea-285c88c4ee6e",
   "metadata": {},
   "outputs": [],
   "source": []
  },
  {
   "cell_type": "code",
   "execution_count": null,
   "id": "9b1f30e9-55de-4315-a0ba-a4ba952dcc21",
   "metadata": {},
   "outputs": [],
   "source": []
  },
  {
   "cell_type": "code",
   "execution_count": null,
   "id": "a0d6b995-e0e6-47fb-8cba-0168ac2afe89",
   "metadata": {},
   "outputs": [],
   "source": []
  },
  {
   "cell_type": "code",
   "execution_count": null,
   "id": "5f1e9252-1678-456a-9c19-4acb260867a6",
   "metadata": {},
   "outputs": [],
   "source": []
  },
  {
   "cell_type": "code",
   "execution_count": null,
   "id": "5cbf444f-d3e8-4246-a104-41f36a1dc7f1",
   "metadata": {},
   "outputs": [],
   "source": []
  },
  {
   "cell_type": "code",
   "execution_count": null,
   "id": "a9fd66e5-09aa-46f2-b4a1-4c7dc6ad1ac3",
   "metadata": {},
   "outputs": [],
   "source": []
  },
  {
   "cell_type": "code",
   "execution_count": null,
   "id": "bbe09500-b5a3-49e6-8a1c-8cbd2bd682a1",
   "metadata": {},
   "outputs": [],
   "source": []
  }
 ],
 "metadata": {
  "kernelspec": {
   "display_name": "Python 3 (ipykernel)",
   "language": "python",
   "name": "python3"
  },
  "language_info": {
   "codemirror_mode": {
    "name": "ipython",
    "version": 3
   },
   "file_extension": ".py",
   "mimetype": "text/x-python",
   "name": "python",
   "nbconvert_exporter": "python",
   "pygments_lexer": "ipython3",
   "version": "3.11.7"
  }
 },
 "nbformat": 4,
 "nbformat_minor": 5
}

{
 "cells": [
  {
   "cell_type": "markdown",
   "id": "61c0e561",
   "metadata": {},
   "source": [
    "### Requirements Installation"
   ]
  },
  {
   "cell_type": "code",
   "execution_count": 5,
   "id": "5b550e61",
   "metadata": {},
   "outputs": [
    {
     "name": "stdout",
     "output_type": "stream",
     "text": [
      "Requirement already satisfied: openai in /Users/ds/Documents/Anaconda/anaconda3/lib/python3.11/site-packages (1.12.0)\n",
      "Requirement already satisfied: anyio<5,>=3.5.0 in /Users/ds/Documents/Anaconda/anaconda3/lib/python3.11/site-packages (from openai) (3.5.0)\n",
      "Requirement already satisfied: distro<2,>=1.7.0 in /Users/ds/Documents/Anaconda/anaconda3/lib/python3.11/site-packages (from openai) (1.9.0)\n",
      "Requirement already satisfied: httpx<1,>=0.23.0 in /Users/ds/Documents/Anaconda/anaconda3/lib/python3.11/site-packages (from openai) (0.27.0)\n",
      "Requirement already satisfied: pydantic<3,>=1.9.0 in /Users/ds/Documents/Anaconda/anaconda3/lib/python3.11/site-packages (from openai) (1.10.8)\n",
      "Requirement already satisfied: sniffio in /Users/ds/Documents/Anaconda/anaconda3/lib/python3.11/site-packages (from openai) (1.2.0)\n",
      "Requirement already satisfied: tqdm>4 in /Users/ds/Documents/Anaconda/anaconda3/lib/python3.11/site-packages (from openai) (4.65.0)\n",
      "Requirement already satisfied: typing-extensions<5,>=4.7 in /Users/ds/Documents/Anaconda/anaconda3/lib/python3.11/site-packages (from openai) (4.7.1)\n",
      "Requirement already satisfied: idna>=2.8 in /Users/ds/Documents/Anaconda/anaconda3/lib/python3.11/site-packages (from anyio<5,>=3.5.0->openai) (3.4)\n",
      "Requirement already satisfied: certifi in /Users/ds/Documents/Anaconda/anaconda3/lib/python3.11/site-packages (from httpx<1,>=0.23.0->openai) (2024.2.2)\n",
      "Requirement already satisfied: httpcore==1.* in /Users/ds/Documents/Anaconda/anaconda3/lib/python3.11/site-packages (from httpx<1,>=0.23.0->openai) (1.0.4)\n",
      "Requirement already satisfied: h11<0.15,>=0.13 in /Users/ds/Documents/Anaconda/anaconda3/lib/python3.11/site-packages (from httpcore==1.*->httpx<1,>=0.23.0->openai) (0.14.0)\n",
      "Requirement already satisfied: langchain in /Users/ds/Documents/Anaconda/anaconda3/lib/python3.11/site-packages (0.1.9)\n",
      "Requirement already satisfied: PyYAML>=5.3 in /Users/ds/Documents/Anaconda/anaconda3/lib/python3.11/site-packages (from langchain) (6.0)\n",
      "Requirement already satisfied: SQLAlchemy<3,>=1.4 in /Users/ds/Documents/Anaconda/anaconda3/lib/python3.11/site-packages (from langchain) (1.4.39)\n",
      "Requirement already satisfied: aiohttp<4.0.0,>=3.8.3 in /Users/ds/Documents/Anaconda/anaconda3/lib/python3.11/site-packages (from langchain) (3.8.5)\n",
      "Requirement already satisfied: dataclasses-json<0.7,>=0.5.7 in /Users/ds/Documents/Anaconda/anaconda3/lib/python3.11/site-packages (from langchain) (0.6.4)\n",
      "Requirement already satisfied: jsonpatch<2.0,>=1.33 in /Users/ds/Documents/Anaconda/anaconda3/lib/python3.11/site-packages (from langchain) (1.33)\n",
      "Requirement already satisfied: langchain-community<0.1,>=0.0.21 in /Users/ds/Documents/Anaconda/anaconda3/lib/python3.11/site-packages (from langchain) (0.0.24)\n",
      "Requirement already satisfied: langchain-core<0.2,>=0.1.26 in /Users/ds/Documents/Anaconda/anaconda3/lib/python3.11/site-packages (from langchain) (0.1.26)\n",
      "Requirement already satisfied: langsmith<0.2.0,>=0.1.0 in /Users/ds/Documents/Anaconda/anaconda3/lib/python3.11/site-packages (from langchain) (0.1.7)\n",
      "Requirement already satisfied: numpy<2,>=1 in /Users/ds/Documents/Anaconda/anaconda3/lib/python3.11/site-packages (from langchain) (1.24.3)\n",
      "Requirement already satisfied: pydantic<3,>=1 in /Users/ds/Documents/Anaconda/anaconda3/lib/python3.11/site-packages (from langchain) (1.10.8)\n",
      "Requirement already satisfied: requests<3,>=2 in /Users/ds/Documents/Anaconda/anaconda3/lib/python3.11/site-packages (from langchain) (2.31.0)\n",
      "Requirement already satisfied: tenacity<9.0.0,>=8.1.0 in /Users/ds/Documents/Anaconda/anaconda3/lib/python3.11/site-packages (from langchain) (8.2.2)\n",
      "Requirement already satisfied: attrs>=17.3.0 in /Users/ds/Documents/Anaconda/anaconda3/lib/python3.11/site-packages (from aiohttp<4.0.0,>=3.8.3->langchain) (22.1.0)\n",
      "Requirement already satisfied: charset-normalizer<4.0,>=2.0 in /Users/ds/Documents/Anaconda/anaconda3/lib/python3.11/site-packages (from aiohttp<4.0.0,>=3.8.3->langchain) (3.3.2)\n",
      "Requirement already satisfied: multidict<7.0,>=4.5 in /Users/ds/Documents/Anaconda/anaconda3/lib/python3.11/site-packages (from aiohttp<4.0.0,>=3.8.3->langchain) (6.0.2)\n",
      "Requirement already satisfied: async-timeout<5.0,>=4.0.0a3 in /Users/ds/Documents/Anaconda/anaconda3/lib/python3.11/site-packages (from aiohttp<4.0.0,>=3.8.3->langchain) (4.0.2)\n",
      "Requirement already satisfied: yarl<2.0,>=1.0 in /Users/ds/Documents/Anaconda/anaconda3/lib/python3.11/site-packages (from aiohttp<4.0.0,>=3.8.3->langchain) (1.8.1)\n",
      "Requirement already satisfied: frozenlist>=1.1.1 in /Users/ds/Documents/Anaconda/anaconda3/lib/python3.11/site-packages (from aiohttp<4.0.0,>=3.8.3->langchain) (1.3.3)\n",
      "Requirement already satisfied: aiosignal>=1.1.2 in /Users/ds/Documents/Anaconda/anaconda3/lib/python3.11/site-packages (from aiohttp<4.0.0,>=3.8.3->langchain) (1.2.0)\n",
      "Requirement already satisfied: marshmallow<4.0.0,>=3.18.0 in /Users/ds/Documents/Anaconda/anaconda3/lib/python3.11/site-packages (from dataclasses-json<0.7,>=0.5.7->langchain) (3.20.2)\n",
      "Requirement already satisfied: typing-inspect<1,>=0.4.0 in /Users/ds/Documents/Anaconda/anaconda3/lib/python3.11/site-packages (from dataclasses-json<0.7,>=0.5.7->langchain) (0.9.0)\n",
      "Requirement already satisfied: jsonpointer>=1.9 in /Users/ds/Documents/Anaconda/anaconda3/lib/python3.11/site-packages (from jsonpatch<2.0,>=1.33->langchain) (2.1)\n",
      "Requirement already satisfied: anyio<5,>=3 in /Users/ds/Documents/Anaconda/anaconda3/lib/python3.11/site-packages (from langchain-core<0.2,>=0.1.26->langchain) (3.5.0)\n",
      "Requirement already satisfied: packaging<24.0,>=23.2 in /Users/ds/Documents/Anaconda/anaconda3/lib/python3.11/site-packages (from langchain-core<0.2,>=0.1.26->langchain) (23.2)\n",
      "Requirement already satisfied: orjson<4.0.0,>=3.9.14 in /Users/ds/Documents/Anaconda/anaconda3/lib/python3.11/site-packages (from langsmith<0.2.0,>=0.1.0->langchain) (3.9.15)\n",
      "Requirement already satisfied: typing-extensions>=4.2.0 in /Users/ds/Documents/Anaconda/anaconda3/lib/python3.11/site-packages (from pydantic<3,>=1->langchain) (4.7.1)\n",
      "Requirement already satisfied: idna<4,>=2.5 in /Users/ds/Documents/Anaconda/anaconda3/lib/python3.11/site-packages (from requests<3,>=2->langchain) (3.4)\n",
      "Requirement already satisfied: urllib3<3,>=1.21.1 in /Users/ds/Documents/Anaconda/anaconda3/lib/python3.11/site-packages (from requests<3,>=2->langchain) (2.2.1)\n",
      "Requirement already satisfied: certifi>=2017.4.17 in /Users/ds/Documents/Anaconda/anaconda3/lib/python3.11/site-packages (from requests<3,>=2->langchain) (2024.2.2)\n",
      "Requirement already satisfied: sniffio>=1.1 in /Users/ds/Documents/Anaconda/anaconda3/lib/python3.11/site-packages (from anyio<5,>=3->langchain-core<0.2,>=0.1.26->langchain) (1.2.0)\n",
      "Requirement already satisfied: mypy-extensions>=0.3.0 in /Users/ds/Documents/Anaconda/anaconda3/lib/python3.11/site-packages (from typing-inspect<1,>=0.4.0->dataclasses-json<0.7,>=0.5.7->langchain) (1.0.0)\n",
      "Requirement already satisfied: python-dotenv in /Users/ds/Documents/Anaconda/anaconda3/lib/python3.11/site-packages (0.21.0)\n"
     ]
    }
   ],
   "source": [
    "!pip install openai\n",
    "!pip install langchain\n",
    "!pip install python-dotenv"
   ]
  },
  {
   "cell_type": "code",
   "execution_count": 6,
   "id": "aeada65f",
   "metadata": {},
   "outputs": [
    {
     "name": "stdout",
     "output_type": "stream",
     "text": [
      "Name: langchain\r\n",
      "Version: 0.1.9\r\n",
      "Summary: Building applications with LLMs through composability\r\n",
      "Home-page: https://github.com/langchain-ai/langchain\r\n",
      "Author: \r\n",
      "Author-email: \r\n",
      "License: MIT\r\n",
      "Location: /Users/ds/Documents/Anaconda/anaconda3/lib/python3.11/site-packages\r\n",
      "Requires: aiohttp, dataclasses-json, jsonpatch, langchain-community, langchain-core, langsmith, numpy, pydantic, PyYAML, requests, SQLAlchemy, tenacity\r\n",
      "Required-by: \r\n"
     ]
    }
   ],
   "source": [
    "!pip show langchain"
   ]
  },
  {
   "cell_type": "markdown",
   "id": "064e9ff6",
   "metadata": {},
   "source": [
    "### Load Environment Variables"
   ]
  },
  {
   "cell_type": "code",
   "execution_count": 7,
   "id": "9ad46af3",
   "metadata": {},
   "outputs": [
    {
     "name": "stdout",
     "output_type": "stream",
     "text": [
      "API Key Loaded: True\n"
     ]
    }
   ],
   "source": [
    "import os\n",
    "from dotenv import load_dotenv, find_dotenv\n",
    "load_dotenv(find_dotenv(), override=True)\n",
    "\n",
    "os.environ.get('OPENAI_API_KEY')\n",
    "\n",
    "print(\"API Key Loaded:\", os.environ.get('OPENAI_API_KEY') is not None)"
   ]
  },
  {
   "cell_type": "markdown",
   "id": "a9eddab5",
   "metadata": {},
   "source": [
    "### Create LangChain Agent"
   ]
  },
  {
   "cell_type": "code",
   "execution_count": 8,
   "id": "4f184afc",
   "metadata": {},
   "outputs": [
    {
     "name": "stdout",
     "output_type": "stream",
     "text": [
      "Note: you may need to restart the kernel to use updated packages.\n"
     ]
    }
   ],
   "source": [
    "pip install -q langchain_experimental"
   ]
  },
  {
   "cell_type": "code",
   "execution_count": 9,
   "id": "f2459d44",
   "metadata": {},
   "outputs": [],
   "source": [
    "from langchain_experimental.utilities import PythonREPL"
   ]
  },
  {
   "cell_type": "code",
   "execution_count": 11,
   "id": "2cfe0a1f",
   "metadata": {},
   "outputs": [],
   "source": [
    "python_repl = PythonREPL()"
   ]
  },
  {
   "cell_type": "code",
   "execution_count": 13,
   "id": "6e793628",
   "metadata": {},
   "outputs": [
    {
     "data": {
      "text/plain": [
       "'2024-02-24 20:56:17.040768\\n'"
      ]
     },
     "execution_count": 13,
     "metadata": {},
     "output_type": "execute_result"
    }
   ],
   "source": [
    "python_repl.run('import datetime; print(datetime.datetime.now())')"
   ]
  },
  {
   "cell_type": "code",
   "execution_count": 14,
   "id": "91c153f7",
   "metadata": {},
   "outputs": [],
   "source": [
    "from langchain_experimental.agents.agent_toolkits import create_python_agent\n",
    "from langchain_experimental.tools.python.tool import PythonREPLTool\n",
    "from langchain_openai import ChatOpenAI"
   ]
  },
  {
   "cell_type": "code",
   "execution_count": 15,
   "id": "6e49663f",
   "metadata": {},
   "outputs": [],
   "source": [
    "llm = ChatOpenAI(model='gpt-4-turbo-preview', temperature=0)"
   ]
  },
  {
   "cell_type": "code",
   "execution_count": 16,
   "id": "faf33e41",
   "metadata": {},
   "outputs": [],
   "source": [
    "agent = create_python_agent(\n",
    "    llm=llm,\n",
    "    tool=PythonREPLTool(),\n",
    "    verbose=True\n",
    ")"
   ]
  },
  {
   "cell_type": "code",
   "execution_count": 17,
   "id": "2de66688",
   "metadata": {},
   "outputs": [
    {
     "name": "stdout",
     "output_type": "stream",
     "text": [
      "\n",
      "\n",
      "\u001b[1m> Entering new AgentExecutor chain...\u001b[0m\n",
      "\u001b[32;1m\u001b[1;3mFirst, I need to calculate the factorial of 10. Then, I will find the square root of that result. Finally, I will format the result to display it with 4 decimal points. I can use the `math` module in Python to accomplish these tasks. Let's start by calculating the factorial of 10. \n",
      "\n",
      "Action: Python_REPL\n",
      "Action Input: import math\n",
      "print(math.factorial(10))\u001b[0m\n",
      "Observation: \u001b[36;1m\u001b[1;3m3628800\n",
      "\u001b[0m\n",
      "Thought:\u001b[32;1m\u001b[1;3mNow that I have the factorial of 10, I need to calculate the square root of this number. I can continue using the `math` module for this.\n",
      "\n",
      "Action: Python_REPL\n",
      "Action Input: print(math.sqrt(3628800))\u001b[0m\n",
      "Observation: \u001b[36;1m\u001b[1;3m1904.9409439665053\n",
      "\u001b[0m\n",
      "Thought:\u001b[32;1m\u001b[1;3mI now have the square root of the factorial of 10. The next step is to format this result to display it with 4 decimal points.\n",
      "\n",
      "Action: Python_REPL\n",
      "Action Input: print(f\"{1904.9409439665053:.4f}\")\u001b[0m\n",
      "Observation: \u001b[36;1m\u001b[1;3m1904.9409\n",
      "\u001b[0m\n",
      "Thought:\u001b[32;1m\u001b[1;3mI now know the final answer\n",
      "Final Answer: 1904.9409\u001b[0m\n",
      "\n",
      "\u001b[1m> Finished chain.\u001b[0m\n"
     ]
    },
    {
     "data": {
      "text/plain": [
       "{'input': 'Calculate the square root of the factorial of 10 and display it with 4 decimal point',\n",
       " 'output': '1904.9409'}"
      ]
     },
     "execution_count": 17,
     "metadata": {},
     "output_type": "execute_result"
    }
   ],
   "source": [
    "agent.invoke('Calculate the square root of the factorial of 10 and display it with 4 decimal point')"
   ]
  },
  {
   "cell_type": "code",
   "execution_count": 18,
   "id": "4e248612",
   "metadata": {},
   "outputs": [
    {
     "name": "stdout",
     "output_type": "stream",
     "text": [
      "\n",
      "\n",
      "\u001b[1m> Entering new AgentExecutor chain...\u001b[0m\n",
      "\u001b[32;1m\u001b[1;3mI need to calculate 3.14 raised to the power of 8.2 to get the answer.\n",
      "Action: Python_REPL\n",
      "Action Input: print(3.14 ** 8.2)\u001b[0m\n",
      "Observation: \u001b[36;1m\u001b[1;3m11880.182554575464\n",
      "\u001b[0m\n",
      "Thought:\u001b[32;1m\u001b[1;3mI now know the final answer\n",
      "Final Answer: 11880.182554575464\u001b[0m\n",
      "\n",
      "\u001b[1m> Finished chain.\u001b[0m\n"
     ]
    },
    {
     "data": {
      "text/plain": [
       "{'input': 'What is the asnwer to 3.14 ** 8.2', 'output': '11880.182554575464'}"
      ]
     },
     "execution_count": 18,
     "metadata": {},
     "output_type": "execute_result"
    }
   ],
   "source": [
    "agent.invoke('What is the asnwer to 3.14 ** 8.2')"
   ]
  },
  {
   "cell_type": "code",
   "execution_count": 19,
   "id": "c1f71d93",
   "metadata": {},
   "outputs": [
    {
     "name": "stdout",
     "output_type": "stream",
     "text": [
      "\n",
      "\n",
      "\u001b[1m> Entering new AgentExecutor chain...\u001b[0m\n",
      "\u001b[32;1m\u001b[1;3mI need to calculate 3.14 raised to the power of 8.2 to get the answer.\n",
      "Action: Python_REPL\n",
      "Action Input: print(3.14 ** 8.2)\u001b[0m\n",
      "Observation: \u001b[36;1m\u001b[1;3m11880.182554575464\n",
      "\u001b[0m\n",
      "Thought:\u001b[32;1m\u001b[1;3mI now know the final answer\n",
      "Final Answer: 11880.182554575464\u001b[0m\n",
      "\n",
      "\u001b[1m> Finished chain.\u001b[0m\n"
     ]
    }
   ],
   "source": [
    "response = agent.invoke('What is the asnwer to 3.14 ** 8.2')"
   ]
  },
  {
   "cell_type": "code",
   "execution_count": 20,
   "id": "72e21d8b",
   "metadata": {},
   "outputs": [
    {
     "name": "stdout",
     "output_type": "stream",
     "text": [
      "What is the asnwer to 3.14 ** 8.2\n"
     ]
    }
   ],
   "source": [
    "print(response['input'])"
   ]
  },
  {
   "cell_type": "code",
   "execution_count": 21,
   "id": "605e2713",
   "metadata": {},
   "outputs": [
    {
     "name": "stdout",
     "output_type": "stream",
     "text": [
      "11880.182554575464\n"
     ]
    }
   ],
   "source": [
    "print(response['output'])"
   ]
  },
  {
   "cell_type": "markdown",
   "id": "510c9023",
   "metadata": {},
   "source": [
    "### Create ReAct Agent"
   ]
  },
  {
   "cell_type": "code",
   "execution_count": 22,
   "id": "41b165dc",
   "metadata": {},
   "outputs": [
    {
     "name": "stdout",
     "output_type": "stream",
     "text": [
      "Note: you may need to restart the kernel to use updated packages.\n"
     ]
    }
   ],
   "source": [
    "pip install langchainhub -q"
   ]
  },
  {
   "cell_type": "code",
   "execution_count": 23,
   "id": "dd4c64fb",
   "metadata": {},
   "outputs": [],
   "source": [
    "from langchain.prompts import PromptTemplate\n",
    "from langchain import hub\n",
    "from langchain.agents import Tool, AgentExecutor, initialize_agent, create_react_agent\n",
    "from langchain.tools import DuckDuckGoSearchRun, WikipediaQueryRun\n",
    "from langchain.utilities import WikipediaAPIWrapper\n",
    "from langchain_experimental.tools.python.tool import PythonAstREPLTool\n",
    "from langchain_openai import ChatOpenAI"
   ]
  },
  {
   "cell_type": "code",
   "execution_count": 24,
   "id": "32f00572",
   "metadata": {},
   "outputs": [],
   "source": [
    "llm = ChatOpenAI(model_name='gpt-4-turbo-preview', temperature=0)"
   ]
  },
  {
   "cell_type": "code",
   "execution_count": 25,
   "id": "2a31f9ad",
   "metadata": {},
   "outputs": [],
   "source": [
    "template = '''\n",
    "Answer the following question as best you can.\n",
    "Questions: {question}\n",
    "'''"
   ]
  },
  {
   "cell_type": "code",
   "execution_count": 26,
   "id": "4e71ac8a",
   "metadata": {},
   "outputs": [],
   "source": [
    "prompt_template = PromptTemplate.from_template(template)\n",
    "prompt = hub.pull('hwchase17/react')"
   ]
  },
  {
   "cell_type": "markdown",
   "id": "16797dea",
   "metadata": {},
   "source": [
    "### Python REPL Tool"
   ]
  },
  {
   "cell_type": "code",
   "execution_count": 27,
   "id": "8d248f40",
   "metadata": {},
   "outputs": [],
   "source": [
    "python_repl = PythonAstREPLTool()\n",
    "python_repl_tool = Tool(\n",
    "    name='Python REPL',\n",
    "    func= python_repl.run,\n",
    "    description='Use when you need to run Python to answer a question. You Should input Python code.'\n",
    ")"
   ]
  },
  {
   "cell_type": "markdown",
   "id": "11065ca4",
   "metadata": {},
   "source": [
    "### Wikipedia Tool"
   ]
  },
  {
   "cell_type": "code",
   "execution_count": 28,
   "id": "2b621c9a",
   "metadata": {},
   "outputs": [],
   "source": [
    "api_wrapper = WikipediaAPIWrapper()\n",
    "wikipedia = WikipediaQueryRun(api_wrapper=api_wrapper)\n",
    "wikipedia_tool = Tool(\n",
    "    name='Wikipedia',\n",
    "    func= wikipedia.run,\n",
    "    description='Use for when you need to look up a topic, country, or person on Wikipedia.'\n",
    ")"
   ]
  },
  {
   "cell_type": "markdown",
   "id": "726cd8e8",
   "metadata": {},
   "source": [
    "### DuckDuckGo Search"
   ]
  },
  {
   "cell_type": "code",
   "execution_count": 29,
   "id": "fe34e4c5",
   "metadata": {},
   "outputs": [],
   "source": [
    "search = DuckDuckGoSearchRun()\n",
    "duckduckgo_tool = Tool(\n",
    "    name='DuckDuckGo Search',\n",
    "    func= search.run,\n",
    "    description='Use for when you need to perform an internet search to find information that another tool can not provide.'\n",
    ")"
   ]
  },
  {
   "cell_type": "code",
   "execution_count": 30,
   "id": "a454c58d",
   "metadata": {},
   "outputs": [],
   "source": [
    "tools = [python_repl_tool, wikipedia_tool,duckduckgo_tool]\n",
    "\n",
    "agent = create_react_agent(llm, tools, prompt)\n",
    "agent_executor = AgentExecutor(\n",
    "    agent=agent, \n",
    "    tools = tools,\n",
    "    verbose = True,\n",
    "    handle_parsing_errors=True,\n",
    "    max_iterations=10\n",
    ")"
   ]
  },
  {
   "cell_type": "code",
   "execution_count": 31,
   "id": "43048a43",
   "metadata": {},
   "outputs": [
    {
     "name": "stdout",
     "output_type": "stream",
     "text": [
      "\n",
      "\n",
      "\u001b[1m> Entering new AgentExecutor chain...\u001b[0m\n",
      "\u001b[32;1m\u001b[1;3mTo find the next 10 numbers in the Fibonacci sequence starting from 5, I need to know the number that comes before 5 in the sequence. The Fibonacci sequence starts with 0, 1, and each subsequent number is the sum of the previous two. I can then calculate the next 10 numbers.\n",
      "\n",
      "Action: Python REPL\n",
      "Action Input:\n",
      "```python\n",
      "# Starting from the beginning of the Fibonacci sequence to find the number before 5\n",
      "a, b = 0, 1\n",
      "while b < 5:\n",
      "    a, b = b, a + b\n",
      "print(a, b)  # This should print the two numbers before calculating the next 10 numbers\n",
      "```\u001b[0m\u001b[36;1m\u001b[1;3m3 5\n",
      "\u001b[0m\u001b[32;1m\u001b[1;3mThe number before 5 in the Fibonacci sequence is 3. Now, I can calculate the next 10 numbers in the sequence starting from 5.\n",
      "\n",
      "Action: Python REPL\n",
      "Action Input:\n",
      "```python\n",
      "# Starting from 3 and 5 to calculate the next 10 numbers in the Fibonacci sequence\n",
      "a, b = 3, 5\n",
      "sequence = [b]\n",
      "for _ in range(10):\n",
      "    a, b = b, a + b\n",
      "    sequence.append(b)\n",
      "print(sequence)\n",
      "```\u001b[0m\u001b[36;1m\u001b[1;3m[5, 8, 13, 21, 34, 55, 89, 144, 233, 377, 610]\n",
      "\u001b[0m\u001b[32;1m\u001b[1;3mI now know the next 10 numbers in the Fibonacci sequence starting from 5.\n",
      "\n",
      "Final Answer: The next 10 numbers in the Fibonacci sequence starting from 5 are 8, 13, 21, 34, 55, 89, 144, 233, 377, 610.\u001b[0m\n",
      "\n",
      "\u001b[1m> Finished chain.\u001b[0m\n"
     ]
    }
   ],
   "source": [
    "question = 'What are the next 10 numbers in the Fibonacci sequence starting from 5'\n",
    "output = agent_executor.invoke({'input': prompt_template.format(question=question)})"
   ]
  },
  {
   "cell_type": "code",
   "execution_count": 32,
   "id": "125c15a2",
   "metadata": {},
   "outputs": [
    {
     "name": "stdout",
     "output_type": "stream",
     "text": [
      "\n",
      "\n",
      "\u001b[1m> Entering new AgentExecutor chain...\u001b[0m\n",
      "\u001b[32;1m\u001b[1;3mTo find the most recent scientific discoveries, a search on the internet would provide the latest news and updates.\n",
      "\n",
      "Action: DuckDuckGo Search\n",
      "Action Input: new scientific discoveries this week\u001b[0m\u001b[38;5;200m\u001b[1;3mworld view | 21 Feb 2024 News Super-speedy sequencing puts genomic diagnosis in the fast lane Streamlined workflows for DNA and RNA sequencing are helping clinicians to deliver prompt, targeted... Science News | The latest news from all areas of science Astronomy JWST spies hints of a neutron star left behind by supernova 1987A Signs of highly ionized atoms in dusty clouds at SN... Mind How newly discovered brain cells have made us rethink the human mind. Strange new types of cells keep coming to light in the human brain. By the latest count, there are more than 3300, and we ... Feb. 20, 2024 — A few years ago, astronomers uncovered one of the Milky Way's greatest secrets: an enormous, wave-shaped chain of gaseous clouds in our sun's backyard, giving birth to clusters of... Feb. 20, 2024 — A few years ago, astronomers uncovered one of the Milky Way's greatest secrets: an enormous, wave-shaped chain of gaseous clouds in our sun's backyard, giving birth to clusters of...\u001b[0m\u001b[32;1m\u001b[1;3mI now know some of the latest scientific discoveries announced this week, including advancements in genomic diagnosis, observations by the JWST hinting at a neutron star left behind by supernova 1987A, and the discovery of new types of brain cells that are making scientists rethink the human mind.\n",
      "\n",
      "Final Answer: Some of the new scientific discoveries announced this week include:\n",
      "- Super-speedy sequencing techniques that are enhancing genomic diagnosis by providing prompt, targeted treatments.\n",
      "- The James Webb Space Telescope (JWST) has provided hints of a neutron star left behind by supernova 1987A through the observation of highly ionized atoms in dusty clouds.\n",
      "- The discovery of new types of brain cells that are prompting a reevaluation of our understanding of the human mind, with more than 3300 different types of cells now identified.\u001b[0m\n",
      "\n",
      "\u001b[1m> Finished chain.\u001b[0m\n"
     ]
    }
   ],
   "source": [
    "question = 'What new scientific discoveries have been announced this week?'\n",
    "output = agent_executor.invoke({'input': prompt_template.format(question=question)})"
   ]
  },
  {
   "cell_type": "code",
   "execution_count": 33,
   "id": "94848104",
   "metadata": {},
   "outputs": [
    {
     "name": "stdout",
     "output_type": "stream",
     "text": [
      "\n",
      "\n",
      "\u001b[1m> Entering new AgentExecutor chain...\u001b[0m\n",
      "\u001b[32;1m\u001b[1;3mTo find detailed information about Thomas Edison's early life, I will use Wikipedia as it usually provides comprehensive biographical details.\n",
      "Action: Wikipedia\n",
      "Action Input: Thomas Edison\u001b[0m\u001b[33;1m\u001b[1;3mPage: Thomas Edison\n",
      "Summary: Thomas Alva Edison (February 11, 1847 – October 18, 1931) was an American inventor and businessman. He developed many devices in fields such as electric power generation, mass communication, sound recording, and motion pictures. These inventions, which include the phonograph, the motion picture camera, and early versions of the electric light bulb, have had a widespread impact on the modern industrialized world. He was one of the first inventors to apply the principles of organized science and teamwork to the process of invention, working with many researchers and employees. He established the first industrial research laboratory.Edison was raised in the American Midwest. Early in his career he worked as a telegraph operator, which inspired some of his earliest inventions. In 1876, he established his first laboratory facility in Menlo Park, New Jersey, where many of his early inventions were developed. He later established a botanical laboratory in Fort Myers, Florida, in collaboration with businessmen Henry Ford and Harvey S. Firestone, and a laboratory in West Orange, New Jersey, that featured the world's first film studio, the Black Maria. With 1,093 US patents in his name, as well as patents in other countries, Edison is regarded as the most prolific inventor in American history. Edison married twice and fathered six children. He died in 1931 due to complications from diabetes.\n",
      "\n",
      "Page: Thomas Edison State University\n",
      "Summary: Thomas Edison State University (TESU) is a public university in Trenton, New Jersey. The university is one of New Jersey's 11 senior public institutions of higher education. Thomas Edison State University offers degrees at the undergraduate and graduate level.\n",
      "\n",
      "Page: Thomas A. Edison, Inc.\n",
      "Summary: Thomas A. Edison, Incorporated (originally the National Phonograph Company) was the main holding company for the various manufacturing companies established by the inventor and entrepreneur Thomas Edison. It was a successor to Edison Manufacturing Company and operated between 1911 and 1957, when it merged with McGraw Electric to form McGraw-Edison.\u001b[0m\u001b[32;1m\u001b[1;3mI now know the final answer\n",
      "Final Answer: Thomas Alva Edison was born on February 11, 1847, and became an American inventor and businessman renowned for his contributions to electric power generation, mass communication, sound recording, and motion pictures. His notable inventions include the phonograph, the motion picture camera, and early versions of the electric light bulb. Raised in the American Midwest, Edison's early career was as a telegraph operator, which inspired some of his earliest inventions. In 1876, he established his first laboratory in Menlo Park, New Jersey, where he developed many of his early inventions. Edison was one of the first inventors to apply organized science and teamwork to the invention process, establishing the first industrial research laboratory. He held 1,093 US patents and is considered the most prolific inventor in American history. Edison married twice and had six children, passing away on October 18, 1931, due to complications from diabetes.\u001b[0m\n",
      "\n",
      "\u001b[1m> Finished chain.\u001b[0m\n"
     ]
    }
   ],
   "source": [
    "question = 'Tell me about Thomas Edison early life.'\n",
    "output = agent_executor.invoke({'input': prompt_template.format(question=question)})"
   ]
  },
  {
   "cell_type": "code",
   "execution_count": null,
   "id": "3ef7ff1f",
   "metadata": {},
   "outputs": [],
   "source": []
  },
  {
   "cell_type": "code",
   "execution_count": null,
   "id": "6c8a8709",
   "metadata": {},
   "outputs": [],
   "source": []
  },
  {
   "cell_type": "code",
   "execution_count": null,
   "id": "16779cc1",
   "metadata": {},
   "outputs": [],
   "source": []
  },
  {
   "cell_type": "code",
   "execution_count": null,
   "id": "5d55b3ed",
   "metadata": {},
   "outputs": [],
   "source": []
  },
  {
   "cell_type": "code",
   "execution_count": null,
   "id": "23eaf843",
   "metadata": {},
   "outputs": [],
   "source": []
  },
  {
   "cell_type": "code",
   "execution_count": null,
   "id": "ef427eff",
   "metadata": {},
   "outputs": [],
   "source": []
  },
  {
   "cell_type": "code",
   "execution_count": null,
   "id": "e313d5da",
   "metadata": {},
   "outputs": [],
   "source": []
  },
  {
   "cell_type": "code",
   "execution_count": null,
   "id": "5e22b7d4",
   "metadata": {},
   "outputs": [],
   "source": []
  },
  {
   "cell_type": "code",
   "execution_count": null,
   "id": "ac0c0851",
   "metadata": {},
   "outputs": [],
   "source": []
  },
  {
   "cell_type": "code",
   "execution_count": null,
   "id": "a1895403",
   "metadata": {},
   "outputs": [],
   "source": []
  },
  {
   "cell_type": "code",
   "execution_count": null,
   "id": "ae24a471",
   "metadata": {},
   "outputs": [],
   "source": []
  }
 ],
 "metadata": {
  "kernelspec": {
   "display_name": "Python 3 (ipykernel)",
   "language": "python",
   "name": "python3"
  },
  "language_info": {
   "codemirror_mode": {
    "name": "ipython",
    "version": 3
   },
   "file_extension": ".py",
   "mimetype": "text/x-python",
   "name": "python",
   "nbconvert_exporter": "python",
   "pygments_lexer": "ipython3",
   "version": "3.10.9"
  }
 },
 "nbformat": 4,
 "nbformat_minor": 5
}

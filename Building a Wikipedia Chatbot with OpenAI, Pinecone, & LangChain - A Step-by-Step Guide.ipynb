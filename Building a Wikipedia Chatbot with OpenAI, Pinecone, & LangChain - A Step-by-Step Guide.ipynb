{
 "cells": [
  {
   "cell_type": "markdown",
   "id": "a58d2b17",
   "metadata": {},
   "source": [
    "### Installing the library"
   ]
  },
  {
   "cell_type": "code",
   "execution_count": 1,
   "id": "b5d51818",
   "metadata": {},
   "outputs": [
    {
     "name": "stdout",
     "output_type": "stream",
     "text": [
      "Requirement already satisfied: openai in /Users/ds/anaconda3/lib/python3.10/site-packages (1.7.2)\n",
      "Requirement already satisfied: distro<2,>=1.7.0 in /Users/ds/anaconda3/lib/python3.10/site-packages (from openai) (1.9.0)\n",
      "Requirement already satisfied: sniffio in /Users/ds/anaconda3/lib/python3.10/site-packages (from openai) (1.2.0)\n",
      "Requirement already satisfied: anyio<5,>=3.5.0 in /Users/ds/anaconda3/lib/python3.10/site-packages (from openai) (3.5.0)\n",
      "Requirement already satisfied: typing-extensions<5,>=4.7 in /Users/ds/anaconda3/lib/python3.10/site-packages (from openai) (4.9.0)\n",
      "Requirement already satisfied: httpx<1,>=0.23.0 in /Users/ds/anaconda3/lib/python3.10/site-packages (from openai) (0.24.1)\n",
      "Requirement already satisfied: tqdm>4 in /Users/ds/anaconda3/lib/python3.10/site-packages (from openai) (4.65.0)\n",
      "Requirement already satisfied: pydantic<3,>=1.9.0 in /Users/ds/anaconda3/lib/python3.10/site-packages (from openai) (1.10.12)\n",
      "Requirement already satisfied: idna>=2.8 in /Users/ds/anaconda3/lib/python3.10/site-packages (from anyio<5,>=3.5.0->openai) (3.4)\n",
      "Requirement already satisfied: certifi in /Users/ds/anaconda3/lib/python3.10/site-packages (from httpx<1,>=0.23.0->openai) (2023.11.17)\n",
      "Requirement already satisfied: httpcore<0.18.0,>=0.15.0 in /Users/ds/anaconda3/lib/python3.10/site-packages (from httpx<1,>=0.23.0->openai) (0.17.3)\n",
      "Requirement already satisfied: h11<0.15,>=0.13 in /Users/ds/anaconda3/lib/python3.10/site-packages (from httpcore<0.18.0,>=0.15.0->httpx<1,>=0.23.0->openai) (0.14.0)\n",
      "Requirement already satisfied: langchain in /Users/ds/anaconda3/lib/python3.10/site-packages (0.1.4)\n",
      "Requirement already satisfied: jsonpatch<2.0,>=1.33 in /Users/ds/anaconda3/lib/python3.10/site-packages (from langchain) (1.33)\n",
      "Requirement already satisfied: SQLAlchemy<3,>=1.4 in /Users/ds/anaconda3/lib/python3.10/site-packages (from langchain) (2.0.25)\n",
      "Requirement already satisfied: aiohttp<4.0.0,>=3.8.3 in /Users/ds/anaconda3/lib/python3.10/site-packages (from langchain) (3.8.4)\n",
      "Requirement already satisfied: langchain-community<0.1,>=0.0.14 in /Users/ds/anaconda3/lib/python3.10/site-packages (from langchain) (0.0.16)\n",
      "Requirement already satisfied: dataclasses-json<0.7,>=0.5.7 in /Users/ds/anaconda3/lib/python3.10/site-packages (from langchain) (0.5.9)\n",
      "Requirement already satisfied: async-timeout<5.0.0,>=4.0.0 in /Users/ds/anaconda3/lib/python3.10/site-packages (from langchain) (4.0.2)\n",
      "Requirement already satisfied: langsmith<0.1,>=0.0.83 in /Users/ds/anaconda3/lib/python3.10/site-packages (from langchain) (0.0.83)\n",
      "Requirement already satisfied: numpy<2,>=1 in /Users/ds/anaconda3/lib/python3.10/site-packages (from langchain) (1.25.2)\n",
      "Requirement already satisfied: requests<3,>=2 in /Users/ds/anaconda3/lib/python3.10/site-packages (from langchain) (2.31.0)\n",
      "Requirement already satisfied: tenacity<9.0.0,>=8.1.0 in /Users/ds/anaconda3/lib/python3.10/site-packages (from langchain) (8.2.3)\n",
      "Requirement already satisfied: PyYAML>=5.3 in /Users/ds/anaconda3/lib/python3.10/site-packages (from langchain) (6.0)\n",
      "Requirement already satisfied: pydantic<3,>=1 in /Users/ds/anaconda3/lib/python3.10/site-packages (from langchain) (1.10.12)\n",
      "Requirement already satisfied: langchain-core<0.2,>=0.1.16 in /Users/ds/anaconda3/lib/python3.10/site-packages (from langchain) (0.1.16)\n",
      "Requirement already satisfied: aiosignal>=1.1.2 in /Users/ds/anaconda3/lib/python3.10/site-packages (from aiohttp<4.0.0,>=3.8.3->langchain) (1.3.1)\n",
      "Requirement already satisfied: multidict<7.0,>=4.5 in /Users/ds/anaconda3/lib/python3.10/site-packages (from aiohttp<4.0.0,>=3.8.3->langchain) (6.0.4)\n",
      "Requirement already satisfied: frozenlist>=1.1.1 in /Users/ds/anaconda3/lib/python3.10/site-packages (from aiohttp<4.0.0,>=3.8.3->langchain) (1.3.3)\n",
      "Requirement already satisfied: yarl<2.0,>=1.0 in /Users/ds/anaconda3/lib/python3.10/site-packages (from aiohttp<4.0.0,>=3.8.3->langchain) (1.9.2)\n",
      "Requirement already satisfied: charset-normalizer<4.0,>=2.0 in /Users/ds/anaconda3/lib/python3.10/site-packages (from aiohttp<4.0.0,>=3.8.3->langchain) (2.0.4)\n",
      "Requirement already satisfied: attrs>=17.3.0 in /Users/ds/anaconda3/lib/python3.10/site-packages (from aiohttp<4.0.0,>=3.8.3->langchain) (23.2.0)\n",
      "Requirement already satisfied: marshmallow-enum<2.0.0,>=1.5.1 in /Users/ds/anaconda3/lib/python3.10/site-packages (from dataclasses-json<0.7,>=0.5.7->langchain) (1.5.1)\n",
      "Requirement already satisfied: typing-inspect>=0.4.0 in /Users/ds/anaconda3/lib/python3.10/site-packages (from dataclasses-json<0.7,>=0.5.7->langchain) (0.9.0)\n",
      "Requirement already satisfied: marshmallow<4.0.0,>=3.3.0 in /Users/ds/anaconda3/lib/python3.10/site-packages (from dataclasses-json<0.7,>=0.5.7->langchain) (3.19.0)\n",
      "Requirement already satisfied: jsonpointer>=1.9 in /Users/ds/anaconda3/lib/python3.10/site-packages (from jsonpatch<2.0,>=1.33->langchain) (2.1)\n",
      "Requirement already satisfied: anyio<5,>=3 in /Users/ds/anaconda3/lib/python3.10/site-packages (from langchain-core<0.2,>=0.1.16->langchain) (3.5.0)\n",
      "Requirement already satisfied: packaging<24.0,>=23.2 in /Users/ds/anaconda3/lib/python3.10/site-packages (from langchain-core<0.2,>=0.1.16->langchain) (23.2)\n",
      "Requirement already satisfied: typing-extensions>=4.2.0 in /Users/ds/anaconda3/lib/python3.10/site-packages (from pydantic<3,>=1->langchain) (4.9.0)\n",
      "Requirement already satisfied: certifi>=2017.4.17 in /Users/ds/anaconda3/lib/python3.10/site-packages (from requests<3,>=2->langchain) (2023.11.17)\n",
      "Requirement already satisfied: urllib3<3,>=1.21.1 in /Users/ds/anaconda3/lib/python3.10/site-packages (from requests<3,>=2->langchain) (1.26.16)\n",
      "Requirement already satisfied: idna<4,>=2.5 in /Users/ds/anaconda3/lib/python3.10/site-packages (from requests<3,>=2->langchain) (3.4)\n",
      "Requirement already satisfied: sniffio>=1.1 in /Users/ds/anaconda3/lib/python3.10/site-packages (from anyio<5,>=3->langchain-core<0.2,>=0.1.16->langchain) (1.2.0)\n",
      "Requirement already satisfied: mypy-extensions>=0.3.0 in /Users/ds/anaconda3/lib/python3.10/site-packages (from typing-inspect>=0.4.0->dataclasses-json<0.7,>=0.5.7->langchain) (1.0.0)\n",
      "Requirement already satisfied: pinecone-client in /Users/ds/anaconda3/lib/python3.10/site-packages (2.2.1)\n",
      "Requirement already satisfied: pyyaml>=5.4 in /Users/ds/anaconda3/lib/python3.10/site-packages (from pinecone-client) (6.0)\n",
      "Requirement already satisfied: requests>=2.19.0 in /Users/ds/anaconda3/lib/python3.10/site-packages (from pinecone-client) (2.31.0)\n",
      "Requirement already satisfied: dnspython>=2.0.0 in /Users/ds/anaconda3/lib/python3.10/site-packages (from pinecone-client) (2.3.0)\n",
      "Requirement already satisfied: numpy in /Users/ds/anaconda3/lib/python3.10/site-packages (from pinecone-client) (1.25.2)\n",
      "Requirement already satisfied: loguru>=0.5.0 in /Users/ds/anaconda3/lib/python3.10/site-packages (from pinecone-client) (0.7.0)\n",
      "Requirement already satisfied: urllib3>=1.21.1 in /Users/ds/anaconda3/lib/python3.10/site-packages (from pinecone-client) (1.26.16)\n",
      "Requirement already satisfied: typing-extensions>=3.7.4 in /Users/ds/anaconda3/lib/python3.10/site-packages (from pinecone-client) (4.9.0)\n",
      "Requirement already satisfied: tqdm>=4.64.1 in /Users/ds/anaconda3/lib/python3.10/site-packages (from pinecone-client) (4.65.0)\n",
      "Requirement already satisfied: python-dateutil>=2.5.3 in /Users/ds/anaconda3/lib/python3.10/site-packages (from pinecone-client) (2.8.2)\n",
      "Requirement already satisfied: six>=1.5 in /Users/ds/anaconda3/lib/python3.10/site-packages (from python-dateutil>=2.5.3->pinecone-client) (1.16.0)\n",
      "Requirement already satisfied: charset-normalizer<4,>=2 in /Users/ds/anaconda3/lib/python3.10/site-packages (from requests>=2.19.0->pinecone-client) (2.0.4)\n",
      "Requirement already satisfied: idna<4,>=2.5 in /Users/ds/anaconda3/lib/python3.10/site-packages (from requests>=2.19.0->pinecone-client) (3.4)\n",
      "Requirement already satisfied: certifi>=2017.4.17 in /Users/ds/anaconda3/lib/python3.10/site-packages (from requests>=2.19.0->pinecone-client) (2023.11.17)\n",
      "Requirement already satisfied: python-dotenv in /Users/ds/anaconda3/lib/python3.10/site-packages (1.0.0)\n",
      "Requirement already satisfied: tiktoken in /Users/ds/anaconda3/lib/python3.10/site-packages (0.5.2)\n",
      "Requirement already satisfied: requests>=2.26.0 in /Users/ds/anaconda3/lib/python3.10/site-packages (from tiktoken) (2.31.0)\n",
      "Requirement already satisfied: regex>=2022.1.18 in /Users/ds/anaconda3/lib/python3.10/site-packages (from tiktoken) (2023.12.25)\n",
      "Requirement already satisfied: charset-normalizer<4,>=2 in /Users/ds/anaconda3/lib/python3.10/site-packages (from requests>=2.26.0->tiktoken) (2.0.4)\n",
      "Requirement already satisfied: certifi>=2017.4.17 in /Users/ds/anaconda3/lib/python3.10/site-packages (from requests>=2.26.0->tiktoken) (2023.11.17)\n",
      "Requirement already satisfied: urllib3<3,>=1.21.1 in /Users/ds/anaconda3/lib/python3.10/site-packages (from requests>=2.26.0->tiktoken) (1.26.16)\n",
      "Requirement already satisfied: idna<4,>=2.5 in /Users/ds/anaconda3/lib/python3.10/site-packages (from requests>=2.26.0->tiktoken) (3.4)\n"
     ]
    }
   ],
   "source": [
    "!pip install openai\n",
    "!pip install langchain\n",
    "!pip install pinecone-client\n",
    "!pip install python-dotenv\n",
    "!pip install tiktoken\n",
    "!pip install wikipedia -q"
   ]
  },
  {
   "cell_type": "markdown",
   "id": "b5e6fc23",
   "metadata": {},
   "source": [
    "### Loading environment variables"
   ]
  },
  {
   "cell_type": "code",
   "execution_count": 2,
   "id": "e2ca001e",
   "metadata": {},
   "outputs": [
    {
     "name": "stdout",
     "output_type": "stream",
     "text": [
      "API Key Loaded: True\n"
     ]
    }
   ],
   "source": [
    "import os\n",
    "from dotenv import load_dotenv, find_dotenv\n",
    "load_dotenv(find_dotenv(), override=True)\n",
    "\n",
    "os.environ.get('OPENAI_API_KEY')\n",
    "\n",
    "print(\"API Key Loaded:\", os.environ.get('OPENAI_API_KEY') is not None)"
   ]
  },
  {
   "cell_type": "markdown",
   "id": "69950164",
   "metadata": {},
   "source": [
    "### Loading data from Public or Private Services --- Wikipedia"
   ]
  },
  {
   "cell_type": "code",
   "execution_count": 15,
   "id": "f371fdbb",
   "metadata": {},
   "outputs": [],
   "source": [
    "def chat_with_wikipedia(query, lang='en', load_max_docs=2):\n",
    "    from langchain.document_loaders import WikipediaLoader\n",
    "    loader = WikipediaLoader(query=query, lang=lang, load_max_docs=load_max_docs)\n",
    "    data = loader.load()\n",
    "    return data"
   ]
  },
  {
   "cell_type": "markdown",
   "id": "a3328936",
   "metadata": {},
   "source": [
    "### Chunking Strategies and Splitting the Documents"
   ]
  },
  {
   "cell_type": "code",
   "execution_count": 4,
   "id": "ee5e0590",
   "metadata": {},
   "outputs": [],
   "source": [
    "def split_text_into_chunks(data, chunk_size=256):\n",
    "    from langchain.text_splitter import RecursiveCharacterTextSplitter\n",
    "    text_splitter = RecursiveCharacterTextSplitter(chunk_size=chunk_size, chunk_overlap=0)\n",
    "    chunks = text_splitter.split_documents(data)\n",
    "    return chunks"
   ]
  },
  {
   "cell_type": "markdown",
   "id": "612917be",
   "metadata": {},
   "source": [
    "### Calculating the cost of Embeddings"
   ]
  },
  {
   "cell_type": "code",
   "execution_count": 5,
   "id": "03d64d95",
   "metadata": {},
   "outputs": [],
   "source": [
    "def calculate_and_display_embedding_cost(texts):\n",
    "    import tiktoken\n",
    "    enc = tiktoken.encoding_for_model('text-embedding-ada-002')\n",
    "    total_tokens = sum([len(enc.encode(page.page_content)) for page in texts])\n",
    "    print(f'Total Tokens: {total_tokens}')\n",
    "    print(f'Embedding Cost in USD:{total_tokens / 1000 * 0.0004:.6f}')"
   ]
  },
  {
   "cell_type": "markdown",
   "id": "1e2929db",
   "metadata": {},
   "source": [
    "### Load or create embedding index function"
   ]
  },
  {
   "cell_type": "code",
   "execution_count": 6,
   "id": "36d9696b",
   "metadata": {},
   "outputs": [],
   "source": [
    "def load_or_create_embeddings_index(index_name,chunks):\n",
    "    import pinecone\n",
    "    from langchain.vectorstores import Pinecone\n",
    "    from langchain_openai import OpenAIEmbeddings\n",
    "    \n",
    "    embeddings = OpenAIEmbeddings()\n",
    "    \n",
    "    pinecone.init(api_key=os.environ.get('PINECONE_API_KEY'), environment=os.environ.get('PINECONE_ENV'))\n",
    "    \n",
    "    if index_name in pinecone.list_indexes():\n",
    "        print(f'Index {index_name} already exists. Loading embeddings...', end='')\n",
    "        vector_store = Pinecone.from_existing_index(index_name, embeddings)\n",
    "        print('Done')\n",
    "    else:\n",
    "        print(f'Creating index {index_name} and embeddings ...', end = '')\n",
    "        pinecone.create_index(index_name, dimension=1536, metric='cosine')\n",
    "        vector_store = Pinecone.from_documents(chunks, embeddings, index_name = index_name)\n",
    "        print('Done')\n",
    "        \n",
    "    return vector_store"
   ]
  },
  {
   "cell_type": "markdown",
   "id": "061de17d",
   "metadata": {},
   "source": [
    "### Delete Pinecone Index Function"
   ]
  },
  {
   "cell_type": "code",
   "execution_count": 7,
   "id": "0ecf28cd",
   "metadata": {},
   "outputs": [],
   "source": [
    "def drop_pinecone_index(index_name='all'):\n",
    "    import pinecone\n",
    "    \n",
    "    pinecone.init(api_key=os.environ.get('PINECONE_API_KEY'), environment=os.environ.get('PINECONE_ENV'))\n",
    "\n",
    "    if index_name == 'all':\n",
    "        indexes = pinecone.list_indexes()\n",
    "        print('Deleting all indexes ...')\n",
    "        for index in indexes:\n",
    "            pinecone.delete_index(index)\n",
    "        print('Done')\n",
    "    else:\n",
    "        print(f'Deleting index {index_name} ...', end='')\n",
    "        pinecone.delete_index(index_name)\n",
    "        print('Done')"
   ]
  },
  {
   "cell_type": "markdown",
   "id": "020771d5",
   "metadata": {},
   "source": [
    "### Chat Function"
   ]
  },
  {
   "cell_type": "code",
   "execution_count": 8,
   "id": "73347705",
   "metadata": {},
   "outputs": [],
   "source": [
    "def chat_app_with_wikipedia(vector_store, query, chat_history=[]):\n",
    "    from langchain.chains import ConversationalRetrievalChain\n",
    "    from langchain_openai import ChatOpenAI\n",
    "    \n",
    "    llm = ChatOpenAI(temperature=1)\n",
    "    retriever = vector_store.as_retriever(search_type='similarity', search_kwargs={'k':3})\n",
    "    \n",
    "    crc = ConversationalRetrievalChain.from_llm(llm, retriever)\n",
    "    result = crc.invoke({'question': query, 'chat_history': chat_history})\n",
    "    chat_history.append((query, result['answer']))\n",
    "    \n",
    "    return result, chat_history"
   ]
  },
  {
   "cell_type": "markdown",
   "id": "7ea19b7e",
   "metadata": {},
   "source": [
    "### Chating with context and memory with Wikipedia"
   ]
  },
  {
   "cell_type": "code",
   "execution_count": 9,
   "id": "fe71ee4b",
   "metadata": {},
   "outputs": [
    {
     "name": "stdout",
     "output_type": "stream",
     "text": [
      "The Samsung Galaxy S24 is a series of high-end Android-based smartphones designed, developed, manufactured, and marketed by Samsung Electronics as part of its flagship Galaxy S series. They collectively serve as the successor to the Samsung Galaxy S23 series. The phones were announced on January 17, 2024, at the 2024 Galaxy Unpacked, alongside Galaxy AI, in San Jose, California. The Samsung Galaxy S24, 24+, and 24 Ultra were released on January 31, 2024. \n",
      "\n",
      "\n",
      "== Lineup ==\n",
      "The Galaxy S24 series includes three devices, which share the same lineup and screen sizes as the previous Galaxy S23 series. The entry-level Galaxy S24 features a flat 6.2-inch (155 mm) display. The Galaxy S24+ features similar hardware in a larger 6.7-inch (168 mm) form factor. At the top of the lineup, the Galaxy S24 Ultra features a flat 6.8-inch (173 mm) display. S24 and S24+ are powered by Snapdragon 8 Gen 3 in the USA, Canada, China, Macau, Hong kong, Taiwan, and a Samsung Exynos 2400 in the rest of the world including South Korea, Japan, while the S24 Ultra is equipped with the Snapdragon 8 Gen 3 in every market.\n",
      "\n",
      "\n",
      "== Design ==\n",
      "The Galaxy S24 and S24+ feature aluminum versions, and are available in four standard colors: Amber Yellow, Marble Gray, Cobalt Violet, and Onyx Black, with three additional colors available only through Samsung's website: Jade Green, Sapphire Blue and Sandstone Orange. The S24 Ultra features titanium versions of these colors.\n",
      "\n",
      "\n",
      "== Specifications ==\n",
      "\n",
      "\n",
      "=== Hardware ===\n",
      "\n",
      "\n",
      "==== Chipset ====\n",
      "The Galaxy S24 Ultra uses the Qualcomm’s Snapdragon 8 Gen 3 for Galaxy chip globally, whereas the S24 and S24+ use it only in the United States, Canada and China, Taiwan, and the Samsung Exynos 2400 elsewhere.\n",
      "\n",
      "\n",
      "==== Display ====\n",
      "The Galaxy S24 series features a \"Dynamic LTPO AMOLED 2X\" display with HDR10+ support, 2600 nits of peak brightness, and \"dynamic tone mapping\" technology. All models use an ultrasonic in-screen fingerprint sensor. Lowest refresh rate is 1hz and Goes all the way to 120 hz.The Galaxy S24 Ultra uses Gorilla Glass Armor glass on its display. Corning claims this new glass is 75% less reflective than a typical glass surface.\n",
      "\n",
      "\n",
      "==== Camera ====\n",
      "The Galaxy S24 and S24+ have a 50 MP wide sensor, a 10 MP telephoto sensor and a 12 MP ultrawide sensor. The S24 Ultra has a 200 MP wide sensor, 50 MP pericope telephoto sensor, 10 MP telephoto sensor, and a 5× zoom 12 MP ultrawide sensor. The front camera uses a 12 MP sensor on all three models.\n",
      "\n",
      "\n",
      "==== Batteries ====\n",
      "The Galaxy S24, S24+, and S24 Ultra contain non-removable 4,000 mAh, 4,900 mAh, and 5,000 mAh Li-ion batteries respectively.\n",
      "\n",
      "\n",
      "==== Connectivity ====\n",
      "Samsung Galaxy S24, and S24+ support 5G SA/NSA/Sub6, Wi-Fi 6e, and Bluetooth 5.3 connectivity. Samsung Galaxy S24 Ultra additionally supports Wi-Fi 7.\n",
      "\n",
      "\n",
      "==== Memory and storage ====\n",
      "\n",
      "\n",
      "=== Software ===\n",
      "The Samsung Galaxy S24 phones were released with Android 14 with Samsung's One UI 6.1 software. They come with 7 years of software and security updates.They use Google's on-device Gemini Nano generative AI, already used by the Pixel 8 Pro.\n",
      "\n",
      "\n",
      "== See also ==\n",
      "Samsung Galaxy S series\n",
      "List of longest smartphone telephoto lenses\n",
      "\n",
      "\n",
      "== References ==\n",
      "\n",
      "\n",
      "== External links ==\n",
      "Galaxy S24 & S24+ – Official website\n",
      "Galaxy S24 Ultra – Official website\n"
     ]
    }
   ],
   "source": [
    "### Loading 'Samsung Galaxy S24' information from Wikipedia \n",
    "data = chat_with_wikipedia('Samsung Galaxy S24', lang='en')\n",
    "print(data[0].page_content)"
   ]
  },
  {
   "cell_type": "code",
   "execution_count": 10,
   "id": "3fa2ead8",
   "metadata": {},
   "outputs": [
    {
     "name": "stdout",
     "output_type": "stream",
     "text": [
      "47\n",
      "The Samsung Galaxy S24 is a series of high-end Android-based smartphones designed, developed, manufactured, and marketed by Samsung Electronics as part of its flagship Galaxy S series. They collectively serve as the successor to the Samsung Galaxy S23\n"
     ]
    }
   ],
   "source": [
    "my_chunks = split_text_into_chunks(data)\n",
    "print(len(my_chunks))\n",
    "print(my_chunks[0].page_content)"
   ]
  },
  {
   "cell_type": "code",
   "execution_count": 11,
   "id": "49cc4c56",
   "metadata": {},
   "outputs": [
    {
     "name": "stdout",
     "output_type": "stream",
     "text": [
      "Total Tokens: 1789\n",
      "Embedding Cost in USD:0.000716\n"
     ]
    }
   ],
   "source": [
    "calculate_and_display_embedding_cost(my_chunks)"
   ]
  },
  {
   "cell_type": "code",
   "execution_count": 12,
   "id": "62af2688",
   "metadata": {},
   "outputs": [
    {
     "name": "stderr",
     "output_type": "stream",
     "text": [
      "/Users/ds/anaconda3/lib/python3.10/site-packages/pinecone/index.py:4: TqdmExperimentalWarning: Using `tqdm.autonotebook.tqdm` in notebook mode. Use `tqdm.tqdm` instead to force console mode (e.g. in jupyter console)\n",
      "  from tqdm.autonotebook import tqdm\n"
     ]
    },
    {
     "name": "stdout",
     "output_type": "stream",
     "text": [
      "Deleting all indexes ...\n",
      "Done\n"
     ]
    }
   ],
   "source": [
    "drop_pinecone_index()"
   ]
  },
  {
   "cell_type": "code",
   "execution_count": 13,
   "id": "b4aba33a",
   "metadata": {},
   "outputs": [
    {
     "name": "stdout",
     "output_type": "stream",
     "text": [
      "Creating index wikipediadocument and embeddings ...Done\n"
     ]
    }
   ],
   "source": [
    "index_name='wikipediadocument'\n",
    "vector_store = load_or_create_embeddings_index(index_name, my_chunks)"
   ]
  },
  {
   "cell_type": "code",
   "execution_count": 18,
   "id": "3c0779d7",
   "metadata": {},
   "outputs": [
    {
     "name": "stdout",
     "output_type": "stream",
     "text": [
      "Please type Quit or Exit to quit.\n",
      "Query #1:When was Samsung Galaxy S24 released?\n",
      "\n",
      "Answer: The Samsung Galaxy S24 series was released on January 31, 2024.\n",
      "[('When was Samsung Galaxy S24 released?', 'The Samsung Galaxy S24 series was released on January 31, 2024.')]\n",
      "\n",
      " ----------------------------------------------------------------------------------------------------\n",
      "\n",
      "Query #2:Can you give me more information about it?\n",
      "\n",
      "Answer: Yes, I can provide more information about the Galaxy S24 Ultra. The device features a higher-resolution display and utilizes Gorilla Glass Armor for its display, which Corning claims is 75% less reflective than typical glass surfaces. This means that the screen will have reduced glare and better visibility, especially in bright environments.\n",
      "\n",
      "The Galaxy S24 Ultra also comes with an integrated S Pen, similar to its predecessor, the Galaxy S22 Ultra. This allows for increased functionality and productivity, as the S Pen can be used for tasks such as taking notes, drawing, and navigating the device.\n",
      "\n",
      "Additionally, the phone is expected to have an improved camera setup, although specific details about it have not been provided in the given context. Overall, the Galaxy S24 Ultra seems to be a premium device, offering enhanced display quality, an integrated S Pen, and improved camera capabilities.\n",
      "[('Can you give me more information about it?', 'Yes, I can provide more information about the Galaxy S24 Ultra. The device features a higher-resolution display and utilizes Gorilla Glass Armor for its display, which Corning claims is 75% less reflective than typical glass surfaces. This means that the screen will have reduced glare and better visibility, especially in bright environments.\\n\\nThe Galaxy S24 Ultra also comes with an integrated S Pen, similar to its predecessor, the Galaxy S22 Ultra. This allows for increased functionality and productivity, as the S Pen can be used for tasks such as taking notes, drawing, and navigating the device.\\n\\nAdditionally, the phone is expected to have an improved camera setup, although specific details about it have not been provided in the given context. Overall, the Galaxy S24 Ultra seems to be a premium device, offering enhanced display quality, an integrated S Pen, and improved camera capabilities.')]\n",
      "\n",
      " ----------------------------------------------------------------------------------------------------\n",
      "\n",
      "Query #3:quit\n",
      "Exiting the application.... see you!\n"
     ]
    }
   ],
   "source": [
    "import time\n",
    "i = 1\n",
    "print(\"Please type Quit or Exit to quit.\")\n",
    "while True:\n",
    "    query = input(f'Query #{i}:')\n",
    "    i = i + 1\n",
    "    if query.lower() in ['quit', 'exit']:\n",
    "        print('Exiting the application.... see you!')\n",
    "        time.sleep(2)\n",
    "        break\n",
    "    \n",
    "    chat_history = []\n",
    "    answer, chat_history = chat_app_with_wikipedia(vector_store, query, chat_history)\n",
    "    answer_content = answer['answer']\n",
    "    print(f'\\nAnswer: {answer_content}')\n",
    "    print(chat_history)\n",
    "    print(f'\\n {\"-\" * 100}\\n')"
   ]
  },
  {
   "cell_type": "code",
   "execution_count": null,
   "id": "825cbb46",
   "metadata": {},
   "outputs": [],
   "source": []
  },
  {
   "cell_type": "code",
   "execution_count": null,
   "id": "bc66943a",
   "metadata": {},
   "outputs": [],
   "source": []
  },
  {
   "cell_type": "code",
   "execution_count": null,
   "id": "ffd967d4",
   "metadata": {},
   "outputs": [],
   "source": []
  },
  {
   "cell_type": "code",
   "execution_count": null,
   "id": "1c7e7bcc",
   "metadata": {},
   "outputs": [],
   "source": []
  },
  {
   "cell_type": "code",
   "execution_count": null,
   "id": "32f915d4",
   "metadata": {},
   "outputs": [],
   "source": []
  },
  {
   "cell_type": "code",
   "execution_count": null,
   "id": "861e0dbe",
   "metadata": {},
   "outputs": [],
   "source": []
  },
  {
   "cell_type": "code",
   "execution_count": null,
   "id": "386dffcf",
   "metadata": {},
   "outputs": [],
   "source": []
  }
 ],
 "metadata": {
  "kernelspec": {
   "display_name": "Python 3 (ipykernel)",
   "language": "python",
   "name": "python3"
  },
  "language_info": {
   "codemirror_mode": {
    "name": "ipython",
    "version": 3
   },
   "file_extension": ".py",
   "mimetype": "text/x-python",
   "name": "python",
   "nbconvert_exporter": "python",
   "pygments_lexer": "ipython3",
   "version": "3.10.9"
  }
 },
 "nbformat": 4,
 "nbformat_minor": 5
}
